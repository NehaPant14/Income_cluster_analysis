{
 "cells": [
  {
   "cell_type": "markdown",
   "metadata": {},
   "source": [
    "# Q 3. Section C (Algorithm implementation using packages)"
   ]
  },
  {
   "cell_type": "code",
   "execution_count": 1,
   "metadata": {},
   "outputs": [],
   "source": [
    "#import all necessary libraries\n",
    "import numpy as np\n",
    "import pandas as pd\n",
    "import matplotlib.pyplot as plt\n",
    "import seaborn as sns\n",
    "from sklearn import metrics\n",
    "from sklearn.metrics.pairwise import euclidean_distances\n",
    "from scipy import cluster\n",
    "import sklearn.metrics.pairwise as smp\n",
    "from pyclustering.cluster.kmedians import kmedians\n",
    "from sklearn.cluster import KMeans\n",
    "from sklearn.decomposition import PCA\n",
    "\n",
    "import warnings\n",
    "warnings.filterwarnings(\"ignore\")"
   ]
  },
  {
   "cell_type": "markdown",
   "metadata": {},
   "source": [
    "# 3(a)\n",
    "# Loading the dataset"
   ]
  },
  {
   "cell_type": "code",
   "execution_count": 2,
   "metadata": {},
   "outputs": [
    {
     "data": {
      "text/html": [
       "<div>\n",
       "<style scoped>\n",
       "    .dataframe tbody tr th:only-of-type {\n",
       "        vertical-align: middle;\n",
       "    }\n",
       "\n",
       "    .dataframe tbody tr th {\n",
       "        vertical-align: top;\n",
       "    }\n",
       "\n",
       "    .dataframe thead th {\n",
       "        text-align: right;\n",
       "    }\n",
       "</style>\n",
       "<table border=\"1\" class=\"dataframe\">\n",
       "  <thead>\n",
       "    <tr style=\"text-align: right;\">\n",
       "      <th></th>\n",
       "      <th>AAGE</th>\n",
       "      <th>ACLSWKR</th>\n",
       "      <th>ADTIND</th>\n",
       "      <th>ADTOCC</th>\n",
       "      <th>AHGA</th>\n",
       "      <th>AHRSPAY</th>\n",
       "      <th>AHSCOL</th>\n",
       "      <th>AMARITL</th>\n",
       "      <th>AMJIND</th>\n",
       "      <th>AMJOCC</th>\n",
       "      <th>...</th>\n",
       "      <th>PARENT</th>\n",
       "      <th>PEFNTVTY</th>\n",
       "      <th>PEMNTVTY</th>\n",
       "      <th>PENATVTY</th>\n",
       "      <th>PRCITSHP</th>\n",
       "      <th>SEOTR</th>\n",
       "      <th>VETQVA</th>\n",
       "      <th>VETYN</th>\n",
       "      <th>WKSWORK</th>\n",
       "      <th>YEAR</th>\n",
       "    </tr>\n",
       "  </thead>\n",
       "  <tbody>\n",
       "    <tr>\n",
       "      <th>0</th>\n",
       "      <td>73</td>\n",
       "      <td>Not in universe</td>\n",
       "      <td>0</td>\n",
       "      <td>0</td>\n",
       "      <td>High school graduate</td>\n",
       "      <td>0</td>\n",
       "      <td>Not in universe</td>\n",
       "      <td>Widowed</td>\n",
       "      <td>Not in universe or children</td>\n",
       "      <td>Not in universe</td>\n",
       "      <td>...</td>\n",
       "      <td>Not in universe</td>\n",
       "      <td>United-States</td>\n",
       "      <td>United-States</td>\n",
       "      <td>United-States</td>\n",
       "      <td>Native- Born in the United States</td>\n",
       "      <td>0</td>\n",
       "      <td>Not in universe</td>\n",
       "      <td>2</td>\n",
       "      <td>0</td>\n",
       "      <td>95</td>\n",
       "    </tr>\n",
       "    <tr>\n",
       "      <th>1</th>\n",
       "      <td>58</td>\n",
       "      <td>Self-employed-not incorporated</td>\n",
       "      <td>4</td>\n",
       "      <td>34</td>\n",
       "      <td>Some college but no degree</td>\n",
       "      <td>0</td>\n",
       "      <td>Not in universe</td>\n",
       "      <td>Divorced</td>\n",
       "      <td>Construction</td>\n",
       "      <td>Precision production craft &amp; repair</td>\n",
       "      <td>...</td>\n",
       "      <td>Not in universe</td>\n",
       "      <td>United-States</td>\n",
       "      <td>United-States</td>\n",
       "      <td>United-States</td>\n",
       "      <td>Native- Born in the United States</td>\n",
       "      <td>0</td>\n",
       "      <td>Not in universe</td>\n",
       "      <td>2</td>\n",
       "      <td>52</td>\n",
       "      <td>94</td>\n",
       "    </tr>\n",
       "    <tr>\n",
       "      <th>2</th>\n",
       "      <td>18</td>\n",
       "      <td>Not in universe</td>\n",
       "      <td>0</td>\n",
       "      <td>0</td>\n",
       "      <td>10th grade</td>\n",
       "      <td>0</td>\n",
       "      <td>High school</td>\n",
       "      <td>Never married</td>\n",
       "      <td>Not in universe or children</td>\n",
       "      <td>Not in universe</td>\n",
       "      <td>...</td>\n",
       "      <td>Not in universe</td>\n",
       "      <td>Vietnam</td>\n",
       "      <td>Vietnam</td>\n",
       "      <td>Vietnam</td>\n",
       "      <td>Foreign born- Not a citizen of U S</td>\n",
       "      <td>0</td>\n",
       "      <td>Not in universe</td>\n",
       "      <td>2</td>\n",
       "      <td>0</td>\n",
       "      <td>95</td>\n",
       "    </tr>\n",
       "    <tr>\n",
       "      <th>3</th>\n",
       "      <td>9</td>\n",
       "      <td>Not in universe</td>\n",
       "      <td>0</td>\n",
       "      <td>0</td>\n",
       "      <td>Children</td>\n",
       "      <td>0</td>\n",
       "      <td>Not in universe</td>\n",
       "      <td>Never married</td>\n",
       "      <td>Not in universe or children</td>\n",
       "      <td>Not in universe</td>\n",
       "      <td>...</td>\n",
       "      <td>Both parents present</td>\n",
       "      <td>United-States</td>\n",
       "      <td>United-States</td>\n",
       "      <td>United-States</td>\n",
       "      <td>Native- Born in the United States</td>\n",
       "      <td>0</td>\n",
       "      <td>Not in universe</td>\n",
       "      <td>0</td>\n",
       "      <td>0</td>\n",
       "      <td>94</td>\n",
       "    </tr>\n",
       "    <tr>\n",
       "      <th>4</th>\n",
       "      <td>10</td>\n",
       "      <td>Not in universe</td>\n",
       "      <td>0</td>\n",
       "      <td>0</td>\n",
       "      <td>Children</td>\n",
       "      <td>0</td>\n",
       "      <td>Not in universe</td>\n",
       "      <td>Never married</td>\n",
       "      <td>Not in universe or children</td>\n",
       "      <td>Not in universe</td>\n",
       "      <td>...</td>\n",
       "      <td>Both parents present</td>\n",
       "      <td>United-States</td>\n",
       "      <td>United-States</td>\n",
       "      <td>United-States</td>\n",
       "      <td>Native- Born in the United States</td>\n",
       "      <td>0</td>\n",
       "      <td>Not in universe</td>\n",
       "      <td>0</td>\n",
       "      <td>0</td>\n",
       "      <td>94</td>\n",
       "    </tr>\n",
       "  </tbody>\n",
       "</table>\n",
       "<p>5 rows × 40 columns</p>\n",
       "</div>"
      ],
      "text/plain": [
       "   AAGE                          ACLSWKR  ADTIND  ADTOCC  \\\n",
       "0    73                  Not in universe       0       0   \n",
       "1    58   Self-employed-not incorporated       4      34   \n",
       "2    18                  Not in universe       0       0   \n",
       "3     9                  Not in universe       0       0   \n",
       "4    10                  Not in universe       0       0   \n",
       "\n",
       "                          AHGA  AHRSPAY            AHSCOL         AMARITL  \\\n",
       "0         High school graduate        0   Not in universe         Widowed   \n",
       "1   Some college but no degree        0   Not in universe        Divorced   \n",
       "2                   10th grade        0       High school   Never married   \n",
       "3                     Children        0   Not in universe   Never married   \n",
       "4                     Children        0   Not in universe   Never married   \n",
       "\n",
       "                         AMJIND                                AMJOCC  ...  \\\n",
       "0   Not in universe or children                       Not in universe  ...   \n",
       "1                  Construction   Precision production craft & repair  ...   \n",
       "2   Not in universe or children                       Not in universe  ...   \n",
       "3   Not in universe or children                       Not in universe  ...   \n",
       "4   Not in universe or children                       Not in universe  ...   \n",
       "\n",
       "                  PARENT        PEFNTVTY        PEMNTVTY        PENATVTY  \\\n",
       "0        Not in universe   United-States   United-States   United-States   \n",
       "1        Not in universe   United-States   United-States   United-States   \n",
       "2        Not in universe         Vietnam         Vietnam         Vietnam   \n",
       "3   Both parents present   United-States   United-States   United-States   \n",
       "4   Both parents present   United-States   United-States   United-States   \n",
       "\n",
       "                               PRCITSHP SEOTR            VETQVA  VETYN  \\\n",
       "0     Native- Born in the United States     0   Not in universe      2   \n",
       "1     Native- Born in the United States     0   Not in universe      2   \n",
       "2   Foreign born- Not a citizen of U S      0   Not in universe      2   \n",
       "3     Native- Born in the United States     0   Not in universe      0   \n",
       "4     Native- Born in the United States     0   Not in universe      0   \n",
       "\n",
       "   WKSWORK YEAR  \n",
       "0        0   95  \n",
       "1       52   94  \n",
       "2        0   95  \n",
       "3        0   94  \n",
       "4        0   94  \n",
       "\n",
       "[5 rows x 40 columns]"
      ]
     },
     "execution_count": 2,
     "metadata": {},
     "output_type": "execute_result"
    }
   ],
   "source": [
    "#Load the dataset into memory\n",
    "df_population=pd.read_csv(\"population.csv\")\n",
    "df_population.head()"
   ]
  },
  {
   "cell_type": "markdown",
   "metadata": {},
   "source": [
    "# 3(b) "
   ]
  },
  {
   "cell_type": "markdown",
   "metadata": {},
   "source": [
    "## Preprocessing"
   ]
  },
  {
   "cell_type": "code",
   "execution_count": 3,
   "metadata": {},
   "outputs": [],
   "source": [
    "# replacing '?' with NaN\n",
    "df_population=df_population.replace(' ?', np.NaN)"
   ]
  },
  {
   "cell_type": "code",
   "execution_count": 4,
   "metadata": {},
   "outputs": [
    {
     "data": {
      "text/plain": [
       "AAGE            0\n",
       "ACLSWKR         0\n",
       "ADTIND          0\n",
       "ADTOCC          0\n",
       "AHGA            0\n",
       "AHRSPAY         0\n",
       "AHSCOL          0\n",
       "AMARITL         0\n",
       "AMJIND          0\n",
       "AMJOCC          0\n",
       "ARACE           0\n",
       "AREORGN         0\n",
       "ASEX            0\n",
       "AUNMEM          0\n",
       "AUNTYPE         0\n",
       "AWKSTAT         0\n",
       "CAPGAIN         0\n",
       "CAPLOSS         0\n",
       "DIVVAL          0\n",
       "FILESTAT        0\n",
       "GRINREG         0\n",
       "GRINST        708\n",
       "HHDFMX          0\n",
       "HHDREL          0\n",
       "MIGMTR1     99696\n",
       "MIGMTR3     99696\n",
       "MIGMTR4     99696\n",
       "MIGSAME         0\n",
       "MIGSUN      99696\n",
       "NOEMP           0\n",
       "PARENT          0\n",
       "PEFNTVTY     6713\n",
       "PEMNTVTY     6119\n",
       "PENATVTY     3393\n",
       "PRCITSHP        0\n",
       "SEOTR           0\n",
       "VETQVA          0\n",
       "VETYN           0\n",
       "WKSWORK         0\n",
       "YEAR            0\n",
       "dtype: int64"
      ]
     },
     "execution_count": 4,
     "metadata": {},
     "output_type": "execute_result"
    }
   ],
   "source": [
    "df_population.isna().sum()"
   ]
  },
  {
   "cell_type": "code",
   "execution_count": 5,
   "metadata": {},
   "outputs": [
    {
     "data": {
      "text/plain": [
       "59856.899999999994"
      ]
     },
     "execution_count": 5,
     "metadata": {},
     "output_type": "execute_result"
    }
   ],
   "source": [
    "# calculating 30 percent of the data for removing corresponding columns\n",
    "df_population.shape[0]*.3"
   ]
  },
  {
   "cell_type": "code",
   "execution_count": 6,
   "metadata": {},
   "outputs": [],
   "source": [
    "df_population=df_population.drop(['MIGMTR1','MIGMTR3','MIGMTR4','MIGSUN'], axis=1)"
   ]
  },
  {
   "cell_type": "code",
   "execution_count": 7,
   "metadata": {},
   "outputs": [
    {
     "data": {
      "text/plain": [
       "AAGE         int64\n",
       "ACLSWKR     object\n",
       "ADTIND       int64\n",
       "ADTOCC       int64\n",
       "AHGA        object\n",
       "AHRSPAY      int64\n",
       "AHSCOL      object\n",
       "AMARITL     object\n",
       "AMJIND      object\n",
       "AMJOCC      object\n",
       "ARACE       object\n",
       "AREORGN     object\n",
       "ASEX        object\n",
       "AUNMEM      object\n",
       "AUNTYPE     object\n",
       "AWKSTAT     object\n",
       "CAPGAIN      int64\n",
       "CAPLOSS      int64\n",
       "DIVVAL       int64\n",
       "FILESTAT    object\n",
       "GRINREG     object\n",
       "GRINST      object\n",
       "HHDFMX      object\n",
       "HHDREL      object\n",
       "MIGSAME     object\n",
       "NOEMP        int64\n",
       "PARENT      object\n",
       "PEFNTVTY    object\n",
       "PEMNTVTY    object\n",
       "PENATVTY    object\n",
       "PRCITSHP    object\n",
       "SEOTR        int64\n",
       "VETQVA      object\n",
       "VETYN        int64\n",
       "WKSWORK      int64\n",
       "YEAR         int64\n",
       "dtype: object"
      ]
     },
     "execution_count": 7,
     "metadata": {},
     "output_type": "execute_result"
    }
   ],
   "source": [
    "df_population.dtypes"
   ]
  },
  {
   "cell_type": "markdown",
   "metadata": {},
   "source": [
    "#  Convert numerical data into categorical data"
   ]
  },
  {
   "cell_type": "markdown",
   "metadata": {},
   "source": [
    "## Preprocessing age column"
   ]
  },
  {
   "cell_type": "code",
   "execution_count": 8,
   "metadata": {},
   "outputs": [
    {
     "name": "stdout",
     "output_type": "stream",
     "text": [
      "Total Null Values in AAGE column:\n",
      "0\n",
      "\n",
      "Minimum and Maximum values for AAGE column:\n",
      "0 90\n"
     ]
    }
   ],
   "source": [
    "#Display total null values\n",
    "print('Total Null Values in AAGE column:')\n",
    "print(df_population['AAGE'].isna().sum())\n",
    "\n",
    "# Display minimum and maximum values\n",
    "print('\\nMinimum and Maximum values for AAGE column:')\n",
    "print(df_population['AAGE'].min(), df_population['AAGE'].max())"
   ]
  },
  {
   "cell_type": "code",
   "execution_count": 9,
   "metadata": {},
   "outputs": [
    {
     "data": {
      "text/plain": [
       "34    3489\n",
       "35    3450\n",
       "36    3353\n",
       "31    3351\n",
       "33    3340\n",
       "      ... \n",
       "85     423\n",
       "86     348\n",
       "87     301\n",
       "88     241\n",
       "89     195\n",
       "Name: AAGE, Length: 91, dtype: int64"
      ]
     },
     "execution_count": 9,
     "metadata": {},
     "output_type": "execute_result"
    }
   ],
   "source": [
    "df_population['AAGE'].value_counts()"
   ]
  },
  {
   "cell_type": "code",
   "execution_count": 10,
   "metadata": {},
   "outputs": [
    {
     "data": {
      "text/plain": [
       "11    17777\n",
       "7     16818\n",
       "1     16303\n",
       "8     16166\n",
       "2     15872\n",
       "13    15542\n",
       "3     15334\n",
       "12    14855\n",
       "6     14738\n",
       "9     14651\n",
       "5     13314\n",
       "4     12937\n",
       "10    12377\n",
       "Name: AAGE_bin, dtype: int64"
      ]
     },
     "execution_count": 10,
     "metadata": {},
     "output_type": "execute_result"
    }
   ],
   "source": [
    "#Discretizing the AAGE column\n",
    "cut_label_AAGE = ['1', '2', '3', '4', '5','6','7','8','9','10','11','12','13']\n",
    "\n",
    "cut_bins = [0, 5, 10, 15, 20, 25, 30, 35, 40, 45,50, 60, 70, 100]\n",
    "\n",
    "#Creating a new column using the data after binning\n",
    "df_population['AAGE_bin'] = pd.cut(df_population['AAGE'], bins=cut_bins, labels=cut_label_AAGE)\n",
    "\n",
    "# Finding counts of unique values\n",
    "df_population['AAGE_bin'].value_counts()"
   ]
  },
  {
   "cell_type": "markdown",
   "metadata": {},
   "source": [
    "## Preprocessing ADTIND column"
   ]
  },
  {
   "cell_type": "code",
   "execution_count": 11,
   "metadata": {},
   "outputs": [
    {
     "name": "stdout",
     "output_type": "stream",
     "text": [
      "Total Null Values in ADTIND column:\n",
      "0\n",
      "\n",
      "Minimum and Maximum values for ADTIND column:\n",
      "0 51\n"
     ]
    }
   ],
   "source": [
    "#Display total null values\n",
    "print('Total Null Values in ADTIND column:')\n",
    "print(df_population['ADTIND'].isna().sum())\n",
    "\n",
    "# Display minimum and maximum values\n",
    "print('\\nMinimum and Maximum values for ADTIND column:')\n",
    "print(df_population['ADTIND'].min(), df_population['ADTIND'].max())"
   ]
  },
  {
   "cell_type": "code",
   "execution_count": 12,
   "metadata": {
    "scrolled": true
   },
   "outputs": [
    {
     "data": {
      "text/plain": [
       "0     100684\n",
       "33     17070\n",
       "43      8283\n",
       "4       5984\n",
       "42      4683\n",
       "45      4482\n",
       "29      4209\n",
       "37      4022\n",
       "41      3964\n",
       "32      3596\n",
       "35      3380\n",
       "39      2937\n",
       "34      2765\n",
       "44      2549\n",
       "2       2196\n",
       "11      1764\n",
       "50      1704\n",
       "40      1651\n",
       "47      1644\n",
       "38      1629\n",
       "24      1503\n",
       "12      1350\n",
       "19      1346\n",
       "30      1181\n",
       "31      1178\n",
       "25      1084\n",
       "9        993\n",
       "22       952\n",
       "36       945\n",
       "13       899\n",
       "1        827\n",
       "48       652\n",
       "27       626\n",
       "49       610\n",
       "3        563\n",
       "21       559\n",
       "6        554\n",
       "5        553\n",
       "8        550\n",
       "16       539\n",
       "23       525\n",
       "18       483\n",
       "15       452\n",
       "7        422\n",
       "14       295\n",
       "46       187\n",
       "17       157\n",
       "28       143\n",
       "26       127\n",
       "51        36\n",
       "20        32\n",
       "10         4\n",
       "Name: ADTIND, dtype: int64"
      ]
     },
     "execution_count": 12,
     "metadata": {},
     "output_type": "execute_result"
    }
   ],
   "source": [
    "df_population['ADTIND'].value_counts()"
   ]
  },
  {
   "cell_type": "code",
   "execution_count": 13,
   "metadata": {},
   "outputs": [
    {
     "data": {
      "text/plain": [
       "1    100684\n",
       "5     23215\n",
       "7     20147\n",
       "6     19831\n",
       "3     12836\n",
       "2     12646\n",
       "4     10164\n",
       "Name: ADTIND_bin, dtype: int64"
      ]
     },
     "execution_count": 13,
     "metadata": {},
     "output_type": "execute_result"
    }
   ],
   "source": [
    "#Discretizing the ADTIND column \n",
    "cut_label_ADTIND = ['1', '2', '3', '4', '5','6','7']\n",
    "\n",
    "cut_bins = [-1, 0, 10, 28, 32, 35,42,51]\n",
    "\n",
    "#Creating a new column using the data after binning\n",
    "df_population['ADTIND_bin'] = pd.cut(df_population['ADTIND'], bins=cut_bins, labels=cut_label_ADTIND)\n",
    "\n",
    "# Finding counts of unique values\n",
    "df_population['ADTIND_bin'].value_counts()"
   ]
  },
  {
   "cell_type": "markdown",
   "metadata": {},
   "source": [
    "## Preprocessing ADTOCC column"
   ]
  },
  {
   "cell_type": "code",
   "execution_count": 14,
   "metadata": {},
   "outputs": [
    {
     "name": "stdout",
     "output_type": "stream",
     "text": [
      "Total Null Values in ADTOCC column:\n",
      "0\n",
      "\n",
      "Minimum and Maximum values for ADTOCC column:\n",
      "0 46\n"
     ]
    }
   ],
   "source": [
    "#Display total null values\n",
    "print('Total Null Values in ADTOCC column:')\n",
    "print(df_population['ADTOCC'].isna().sum())\n",
    "\n",
    "# Display minimum and maximum values\n",
    "print('\\nMinimum and Maximum values for ADTOCC column:')\n",
    "print(df_population['ADTOCC'].min(), df_population['ADTOCC'].max())"
   ]
  },
  {
   "cell_type": "code",
   "execution_count": 15,
   "metadata": {
    "scrolled": true
   },
   "outputs": [
    {
     "data": {
      "text/plain": [
       "0     100684\n",
       "2       8756\n",
       "26      7887\n",
       "19      5413\n",
       "29      5105\n",
       "36      4145\n",
       "34      4025\n",
       "10      3683\n",
       "16      3445\n",
       "23      3392\n",
       "12      3340\n",
       "33      3325\n",
       "3       3195\n",
       "35      3168\n",
       "38      3003\n",
       "31      2699\n",
       "32      2398\n",
       "37      2234\n",
       "8       2151\n",
       "42      1918\n",
       "30      1897\n",
       "24      1847\n",
       "17      1771\n",
       "28      1661\n",
       "44      1592\n",
       "41      1592\n",
       "43      1382\n",
       "4       1364\n",
       "13      1271\n",
       "18      1083\n",
       "39      1017\n",
       "14       932\n",
       "5        855\n",
       "15       815\n",
       "27       780\n",
       "25       767\n",
       "9        738\n",
       "7        731\n",
       "11       637\n",
       "40       617\n",
       "1        544\n",
       "21       533\n",
       "6        441\n",
       "22       411\n",
       "45       172\n",
       "20        71\n",
       "46        36\n",
       "Name: ADTOCC, dtype: int64"
      ]
     },
     "execution_count": 15,
     "metadata": {},
     "output_type": "execute_result"
    }
   ],
   "source": [
    "df_population['ADTOCC'].value_counts()"
   ]
  },
  {
   "cell_type": "code",
   "execution_count": 16,
   "metadata": {},
   "outputs": [
    {
     "data": {
      "text/plain": [
       "1    100684\n",
       "4     18733\n",
       "7     17708\n",
       "5     17330\n",
       "6     15615\n",
       "3     14739\n",
       "2     14714\n",
       "Name: ADTOCC_bin, dtype: int64"
      ]
     },
     "execution_count": 16,
     "metadata": {},
     "output_type": "execute_result"
    }
   ],
   "source": [
    "#Discretizing the ADTOCC column \n",
    "cut_label_ADTOCC = ['1', '2', '3', '4', '5','6','7']\n",
    "\n",
    "cut_bins = [-1, 0, 5, 15, 25, 30, 35, 46]\n",
    "\n",
    "#Creating a new column using the data after binning\n",
    "df_population['ADTOCC_bin'] = pd.cut(df_population['ADTOCC'], bins=cut_bins, labels=cut_label_ADTOCC)\n",
    "\n",
    "# Finding counts of unique values\n",
    "df_population['ADTOCC_bin'].value_counts()"
   ]
  },
  {
   "cell_type": "markdown",
   "metadata": {},
   "source": [
    "## Preprocessing AHRSPAY column"
   ]
  },
  {
   "cell_type": "code",
   "execution_count": 17,
   "metadata": {},
   "outputs": [
    {
     "name": "stdout",
     "output_type": "stream",
     "text": [
      "Total Null Values in AHRSPAY column:\n",
      "0\n",
      "\n",
      "Minimum and Maximum values for AHRSPAY column:\n",
      "0 9999\n"
     ]
    }
   ],
   "source": [
    "#Display total null values\n",
    "print('Total Null Values in AHRSPAY column:')\n",
    "print(df_population['AHRSPAY'].isna().sum())\n",
    "\n",
    "# Display minimum and maximum values\n",
    "print('\\nMinimum and Maximum values for AHRSPAY column:')\n",
    "print(df_population['AHRSPAY'].min(), df_population['AHRSPAY'].max())"
   ]
  },
  {
   "cell_type": "code",
   "execution_count": 18,
   "metadata": {},
   "outputs": [
    {
     "data": {
      "text/plain": [
       "0       188219\n",
       "500        734\n",
       "600        546\n",
       "700        534\n",
       "800        507\n",
       "         ...  \n",
       "743          1\n",
       "584          1\n",
       "170          1\n",
       "1265         1\n",
       "2142         1\n",
       "Name: AHRSPAY, Length: 1240, dtype: int64"
      ]
     },
     "execution_count": 18,
     "metadata": {},
     "output_type": "execute_result"
    }
   ],
   "source": [
    "df_population['AHRSPAY'].value_counts()"
   ]
  },
  {
   "cell_type": "code",
   "execution_count": 19,
   "metadata": {},
   "outputs": [
    {
     "data": {
      "text/plain": [
       "1    188219\n",
       "2      7157\n",
       "Name: AHRSPAY_bin, dtype: int64"
      ]
     },
     "execution_count": 19,
     "metadata": {},
     "output_type": "execute_result"
    }
   ],
   "source": [
    "#Discretizing the AHRSPAY column \n",
    "cut_label_AHRSPAY = ['1', '2']\n",
    "\n",
    "cut_bins = [-1, 0,999]\n",
    "\n",
    "#Creating a new column using the data after binning\n",
    "df_population['AHRSPAY_bin'] = pd.cut(df_population['AHRSPAY'], bins=cut_bins, labels=cut_label_AHRSPAY)\n",
    "\n",
    "# Finding counts of unique values\n",
    "df_population['AHRSPAY_bin'].value_counts()"
   ]
  },
  {
   "cell_type": "markdown",
   "metadata": {},
   "source": [
    "## Preprocessing CAPGAIN column"
   ]
  },
  {
   "cell_type": "code",
   "execution_count": 20,
   "metadata": {},
   "outputs": [
    {
     "name": "stdout",
     "output_type": "stream",
     "text": [
      "Total Null Values in CAPGAIN column:\n",
      "0\n",
      "\n",
      "Minimum and Maximum values for CAPGAIN column:\n",
      "0 99999\n"
     ]
    }
   ],
   "source": [
    "#Display total null values\n",
    "print('Total Null Values in CAPGAIN column:')\n",
    "print(df_population['CAPGAIN'].isna().sum())\n",
    "\n",
    "# Display minimum and maximum values\n",
    "print('\\nMinimum and Maximum values for CAPGAIN column:')\n",
    "print(df_population['CAPGAIN'].min(), df_population['CAPGAIN'].max())"
   ]
  },
  {
   "cell_type": "code",
   "execution_count": 21,
   "metadata": {},
   "outputs": [
    {
     "data": {
      "text/plain": [
       "0        192144\n",
       "15024       788\n",
       "7688        609\n",
       "7298        582\n",
       "99999       390\n",
       "          ...  \n",
       "2227          1\n",
       "4594          1\n",
       "2387          1\n",
       "1140          1\n",
       "2601          1\n",
       "Name: CAPGAIN, Length: 132, dtype: int64"
      ]
     },
     "execution_count": 21,
     "metadata": {},
     "output_type": "execute_result"
    }
   ],
   "source": [
    "df_population['CAPGAIN'].value_counts()"
   ]
  },
  {
   "cell_type": "code",
   "execution_count": 22,
   "metadata": {},
   "outputs": [
    {
     "data": {
      "text/plain": [
       "1    192144\n",
       "2      7379\n",
       "Name: CAPGAIN_bin, dtype: int64"
      ]
     },
     "execution_count": 22,
     "metadata": {},
     "output_type": "execute_result"
    }
   ],
   "source": [
    "#Discretizing the CAPGAIN column \n",
    "cut_label_CAPGAIN = ['1', '2']\n",
    "\n",
    "cut_bins = [-1, 0, 99999]\n",
    "#Creating a new column using the data after binning\n",
    "df_population['CAPGAIN_bin'] = pd.cut(df_population['CAPGAIN'], bins=cut_bins, labels=cut_label_CAPGAIN)\n",
    "\n",
    "# Finding counts of unique values\n",
    "df_population['CAPGAIN_bin'].value_counts()"
   ]
  },
  {
   "cell_type": "markdown",
   "metadata": {},
   "source": [
    "## Preprocessing CAPLOSS column"
   ]
  },
  {
   "cell_type": "code",
   "execution_count": 23,
   "metadata": {},
   "outputs": [
    {
     "name": "stdout",
     "output_type": "stream",
     "text": [
      "Total Null Values in CAPLOSS column:\n",
      "0\n",
      "\n",
      "Minimum and Maximum values for CAPLOSS column:\n",
      "0 4608\n"
     ]
    }
   ],
   "source": [
    "#Display total null values\n",
    "print('Total Null Values in CAPLOSS column:')\n",
    "print(df_population['CAPLOSS'].isna().sum())\n",
    "\n",
    "# Display minimum and maximum values\n",
    "print('\\nMinimum and Maximum values for CAPLOSS column:')\n",
    "print(df_population['CAPLOSS'].min(), df_population['CAPLOSS'].max())"
   ]
  },
  {
   "cell_type": "code",
   "execution_count": 24,
   "metadata": {},
   "outputs": [
    {
     "data": {
      "text/plain": [
       "0       195617\n",
       "1902       407\n",
       "1977       381\n",
       "1887       364\n",
       "1602       193\n",
       "         ...  \n",
       "974          2\n",
       "155          1\n",
       "2080         1\n",
       "2519         1\n",
       "1911         1\n",
       "Name: CAPLOSS, Length: 113, dtype: int64"
      ]
     },
     "execution_count": 24,
     "metadata": {},
     "output_type": "execute_result"
    }
   ],
   "source": [
    "df_population['CAPLOSS'].value_counts()"
   ]
  },
  {
   "cell_type": "code",
   "execution_count": 25,
   "metadata": {},
   "outputs": [
    {
     "data": {
      "text/plain": [
       "1    195617\n",
       "2      3906\n",
       "Name: CAPLOSS_bin, dtype: int64"
      ]
     },
     "execution_count": 25,
     "metadata": {},
     "output_type": "execute_result"
    }
   ],
   "source": [
    "#Discretizing the CAPLOSS column \n",
    "cut_label_CAPLOSS = ['1', '2']\n",
    "\n",
    "cut_bins = [-1, 0, 4608]\n",
    "\n",
    "#Creating a new column using the data after binning\n",
    "df_population['CAPLOSS_bin'] = pd.cut(df_population['CAPLOSS'], bins=cut_bins, labels=cut_label_CAPLOSS)\n",
    "\n",
    "# Finding counts of unique values\n",
    "df_population['CAPLOSS_bin'].value_counts()"
   ]
  },
  {
   "cell_type": "markdown",
   "metadata": {},
   "source": [
    "## Preprocessing DIVVAL column"
   ]
  },
  {
   "cell_type": "code",
   "execution_count": 26,
   "metadata": {},
   "outputs": [
    {
     "name": "stdout",
     "output_type": "stream",
     "text": [
      "Total Null Values in DIVVAL column:\n",
      "0\n",
      "\n",
      "Minimum and Maximum values for DIVVAL column:\n",
      "0 99999\n"
     ]
    }
   ],
   "source": [
    "#Display total null values\n",
    "print('Total Null Values in DIVVAL column:')\n",
    "print(df_population['DIVVAL'].isna().sum())\n",
    "\n",
    "# Display minimum and maximum values\n",
    "print('\\nMinimum and Maximum values for DIVVAL column:')\n",
    "print(df_population['DIVVAL'].min(), df_population['DIVVAL'].max())\n"
   ]
  },
  {
   "cell_type": "code",
   "execution_count": 27,
   "metadata": {},
   "outputs": [
    {
     "data": {
      "text/plain": [
       "0        178382\n",
       "100        1148\n",
       "500        1030\n",
       "1000        894\n",
       "200         866\n",
       "          ...  \n",
       "568           1\n",
       "1309          1\n",
       "21100         1\n",
       "5663          1\n",
       "5024          1\n",
       "Name: DIVVAL, Length: 1478, dtype: int64"
      ]
     },
     "execution_count": 27,
     "metadata": {},
     "output_type": "execute_result"
    }
   ],
   "source": [
    "df_population['DIVVAL'].value_counts()"
   ]
  },
  {
   "cell_type": "code",
   "execution_count": 28,
   "metadata": {},
   "outputs": [
    {
     "data": {
      "text/plain": [
       "1    178382\n",
       "2     19155\n",
       "Name: DIVVAL_bin, dtype: int64"
      ]
     },
     "execution_count": 28,
     "metadata": {},
     "output_type": "execute_result"
    }
   ],
   "source": [
    "#Discretizing the DIVVAL column\n",
    "cut_label_DIVVAL = ['1', '2']\n",
    "\n",
    "cut_bins = [-1, 0, 4608]\n",
    "\n",
    "#Creating a new column using the data after binning\n",
    "df_population['DIVVAL_bin'] = pd.cut(df_population['DIVVAL'], bins=cut_bins, labels=cut_label_DIVVAL)\n",
    "\n",
    "# Finding counts of unique values\n",
    "df_population['DIVVAL_bin'].value_counts()"
   ]
  },
  {
   "cell_type": "markdown",
   "metadata": {},
   "source": [
    "## Preprocessing NOEMP column"
   ]
  },
  {
   "cell_type": "code",
   "execution_count": 29,
   "metadata": {},
   "outputs": [
    {
     "name": "stdout",
     "output_type": "stream",
     "text": [
      "Total Null Values in NOEMP column:\n",
      "0\n",
      "\n",
      "Minimum and Maximum values for NOEMP column:\n",
      "0 6\n"
     ]
    }
   ],
   "source": [
    "#Display total null values\n",
    "print('Total Null Values in NOEMP column:')\n",
    "print(df_population['NOEMP'].isna().sum())\n",
    "\n",
    "# Display minimum and maximum values\n",
    "print('\\nMinimum and Maximum values for NOEMP column:')\n",
    "print(df_population['NOEMP'].min(), df_population['NOEMP'].max())"
   ]
  },
  {
   "cell_type": "code",
   "execution_count": 30,
   "metadata": {},
   "outputs": [
    {
     "data": {
      "text/plain": [
       "0    95983\n",
       "6    36511\n",
       "1    23109\n",
       "4    14379\n",
       "3    13425\n",
       "2    10081\n",
       "5     6035\n",
       "Name: NOEMP, dtype: int64"
      ]
     },
     "execution_count": 30,
     "metadata": {},
     "output_type": "execute_result"
    }
   ],
   "source": [
    "df_population['NOEMP'].value_counts()"
   ]
  },
  {
   "cell_type": "markdown",
   "metadata": {},
   "source": [
    "## Preprocessing SEOTR column"
   ]
  },
  {
   "cell_type": "code",
   "execution_count": 31,
   "metadata": {},
   "outputs": [
    {
     "name": "stdout",
     "output_type": "stream",
     "text": [
      "Total Null Values in SEOTR column:\n",
      "0\n",
      "\n",
      "Minimum and Maximum values for SEOTR column:\n",
      "0 2\n"
     ]
    }
   ],
   "source": [
    "#Display total null values\n",
    "print('Total Null Values in SEOTR column:')\n",
    "print(df_population['SEOTR'].isna().sum())\n",
    "\n",
    "# Display minimum and maximum values\n",
    "print('\\nMinimum and Maximum values for SEOTR column:')\n",
    "print(df_population['SEOTR'].min(), df_population['SEOTR'].max())\n"
   ]
  },
  {
   "cell_type": "code",
   "execution_count": 32,
   "metadata": {},
   "outputs": [
    {
     "data": {
      "text/plain": [
       "0    180672\n",
       "2     16153\n",
       "1      2698\n",
       "Name: SEOTR, dtype: int64"
      ]
     },
     "execution_count": 32,
     "metadata": {},
     "output_type": "execute_result"
    }
   ],
   "source": [
    "df_population['SEOTR'].value_counts()"
   ]
  },
  {
   "cell_type": "markdown",
   "metadata": {},
   "source": [
    "## Preprocessing VETYN column"
   ]
  },
  {
   "cell_type": "code",
   "execution_count": 33,
   "metadata": {},
   "outputs": [
    {
     "name": "stdout",
     "output_type": "stream",
     "text": [
      "Total Null Values in VETYN column:\n",
      "0\n",
      "\n",
      "Minimum and Maximum values for VETYN column:\n",
      "0 2\n"
     ]
    }
   ],
   "source": [
    "#Display total null values\n",
    "print('Total Null Values in VETYN column:')\n",
    "print(df_population['VETYN'].isna().sum())\n",
    "\n",
    "# Display minimum and maximum values\n",
    "print('\\nMinimum and Maximum values for VETYN column:')\n",
    "print(df_population['VETYN'].min(), df_population['VETYN'].max())\n"
   ]
  },
  {
   "cell_type": "code",
   "execution_count": 34,
   "metadata": {},
   "outputs": [
    {
     "data": {
      "text/plain": [
       "2    150130\n",
       "0     47409\n",
       "1      1984\n",
       "Name: VETYN, dtype: int64"
      ]
     },
     "execution_count": 34,
     "metadata": {},
     "output_type": "execute_result"
    }
   ],
   "source": [
    "df_population['VETYN'].value_counts()"
   ]
  },
  {
   "cell_type": "markdown",
   "metadata": {},
   "source": [
    "## Preprocessing WKSWORK column"
   ]
  },
  {
   "cell_type": "code",
   "execution_count": 35,
   "metadata": {},
   "outputs": [
    {
     "name": "stdout",
     "output_type": "stream",
     "text": [
      "Total Null Values in WKSWORK column:\n",
      "0\n",
      "\n",
      "Minimum and Maximum values for WKSWORK column:\n",
      "0 52\n"
     ]
    }
   ],
   "source": [
    "#Display total null values\n",
    "print('Total Null Values in WKSWORK column:')\n",
    "print(df_population['WKSWORK'].isna().sum())\n",
    "\n",
    "# Display minimum and maximum values\n",
    "print('\\nMinimum and Maximum values for WKSWORK column:')\n",
    "print(df_population['WKSWORK'].min(), df_population['WKSWORK'].max())\n"
   ]
  },
  {
   "cell_type": "code",
   "execution_count": 36,
   "metadata": {
    "scrolled": true
   },
   "outputs": [
    {
     "data": {
      "text/plain": [
       "0     95983\n",
       "52    70314\n",
       "40     2790\n",
       "50     2304\n",
       "26     2268\n",
       "48     1806\n",
       "12     1780\n",
       "30     1378\n",
       "20     1330\n",
       "8      1126\n",
       "36     1108\n",
       "16      945\n",
       "32      883\n",
       "44      845\n",
       "51      819\n",
       "24      767\n",
       "4       757\n",
       "46      708\n",
       "35      704\n",
       "10      694\n",
       "45      669\n",
       "6       646\n",
       "39      602\n",
       "42      573\n",
       "28      568\n",
       "49      509\n",
       "13      496\n",
       "1       464\n",
       "2       458\n",
       "25      457\n",
       "3       417\n",
       "38      380\n",
       "43      374\n",
       "22      370\n",
       "15      353\n",
       "17      331\n",
       "5       309\n",
       "47      278\n",
       "18      272\n",
       "14      257\n",
       "9       239\n",
       "34      230\n",
       "7       152\n",
       "21      135\n",
       "37      123\n",
       "41       88\n",
       "33       81\n",
       "11       78\n",
       "27       76\n",
       "23       67\n",
       "29       63\n",
       "31       51\n",
       "19       48\n",
       "Name: WKSWORK, dtype: int64"
      ]
     },
     "execution_count": 36,
     "metadata": {},
     "output_type": "execute_result"
    }
   ],
   "source": [
    "df_population['WKSWORK'].value_counts()"
   ]
  },
  {
   "cell_type": "code",
   "execution_count": 37,
   "metadata": {},
   "outputs": [
    {
     "data": {
      "text/plain": [
       "1    95983\n",
       "4    70314\n",
       "2    17301\n",
       "3    15925\n",
       "Name: WKSWORK_bin, dtype: int64"
      ]
     },
     "execution_count": 37,
     "metadata": {},
     "output_type": "execute_result"
    }
   ],
   "source": [
    "#Discretizing the WKSWORK column\n",
    "cut_label_WKSWORK = ['1', '2', '3', '4']\n",
    "\n",
    "cut_bins = [-1, 0, 30, 51, 52]\n",
    "\n",
    "#Creating a new column using the data after binning\n",
    "df_population['WKSWORK_bin'] = pd.cut(df_population['WKSWORK'], bins=cut_bins, labels=cut_label_WKSWORK)\n",
    "\n",
    "# Finding counts of unique values\n",
    "df_population['WKSWORK_bin'].value_counts()"
   ]
  },
  {
   "cell_type": "markdown",
   "metadata": {},
   "source": [
    "## Preprocessing YEAR column"
   ]
  },
  {
   "cell_type": "code",
   "execution_count": 38,
   "metadata": {},
   "outputs": [
    {
     "name": "stdout",
     "output_type": "stream",
     "text": [
      "Total Null Values in YEAR column:\n",
      "0\n",
      "\n",
      "Minimum and Maximum values for YEAR column:\n",
      "94 95\n"
     ]
    }
   ],
   "source": [
    "#Display total null values\n",
    "print('Total Null Values in YEAR column:')\n",
    "print(df_population['YEAR'].isna().sum())\n",
    "\n",
    "# Display minimum and maximum values\n",
    "print('\\nMinimum and Maximum values for YEAR column:')\n",
    "print(df_population['YEAR'].min(), df_population['YEAR'].max())"
   ]
  },
  {
   "cell_type": "code",
   "execution_count": 39,
   "metadata": {},
   "outputs": [
    {
     "data": {
      "text/plain": [
       "94    99827\n",
       "95    99696\n",
       "Name: YEAR, dtype: int64"
      ]
     },
     "execution_count": 39,
     "metadata": {},
     "output_type": "execute_result"
    }
   ],
   "source": [
    "df_population['YEAR'].value_counts()"
   ]
  },
  {
   "cell_type": "markdown",
   "metadata": {},
   "source": [
    "# Q3 (c) "
   ]
  },
  {
   "cell_type": "markdown",
   "metadata": {},
   "source": [
    "## Imputation, Bucketization, One-Hot Encoding :"
   ]
  },
  {
   "cell_type": "markdown",
   "metadata": {},
   "source": [
    "## Imputation: Using mode for each feature, replace the missing values in each column in population.csv dataset"
   ]
  },
  {
   "cell_type": "code",
   "execution_count": 40,
   "metadata": {},
   "outputs": [],
   "source": [
    "# replacing missing values with mode\n",
    "cols = df_population.columns\n",
    "df_population[cols]=df_population[cols].fillna(df_population.mode().iloc[0])"
   ]
  },
  {
   "cell_type": "code",
   "execution_count": 41,
   "metadata": {
    "scrolled": true
   },
   "outputs": [
    {
     "data": {
      "text/plain": [
       "AAGE           0\n",
       "ACLSWKR        0\n",
       "ADTIND         0\n",
       "ADTOCC         0\n",
       "AHGA           0\n",
       "AHRSPAY        0\n",
       "AHSCOL         0\n",
       "AMARITL        0\n",
       "AMJIND         0\n",
       "AMJOCC         0\n",
       "ARACE          0\n",
       "AREORGN        0\n",
       "ASEX           0\n",
       "AUNMEM         0\n",
       "AUNTYPE        0\n",
       "AWKSTAT        0\n",
       "CAPGAIN        0\n",
       "CAPLOSS        0\n",
       "DIVVAL         0\n",
       "FILESTAT       0\n",
       "GRINREG        0\n",
       "GRINST         0\n",
       "HHDFMX         0\n",
       "HHDREL         0\n",
       "MIGSAME        0\n",
       "NOEMP          0\n",
       "PARENT         0\n",
       "PEFNTVTY       0\n",
       "PEMNTVTY       0\n",
       "PENATVTY       0\n",
       "PRCITSHP       0\n",
       "SEOTR          0\n",
       "VETQVA         0\n",
       "VETYN          0\n",
       "WKSWORK        0\n",
       "YEAR           0\n",
       "AAGE_bin       0\n",
       "ADTIND_bin     0\n",
       "ADTOCC_bin     0\n",
       "AHRSPAY_bin    0\n",
       "CAPGAIN_bin    0\n",
       "CAPLOSS_bin    0\n",
       "DIVVAL_bin     0\n",
       "WKSWORK_bin    0\n",
       "dtype: int64"
      ]
     },
     "execution_count": 41,
     "metadata": {},
     "output_type": "execute_result"
    }
   ],
   "source": [
    "df_population.isna().sum()"
   ]
  },
  {
   "cell_type": "code",
   "execution_count": 42,
   "metadata": {},
   "outputs": [
    {
     "data": {
      "text/plain": [
       "Index(['ACLSWKR', 'AHGA', 'AHSCOL', 'AMARITL', 'AMJIND', 'AMJOCC', 'ARACE',\n",
       "       'AREORGN', 'ASEX', 'AUNMEM', 'AUNTYPE', 'AWKSTAT', 'FILESTAT',\n",
       "       'GRINREG', 'GRINST', 'HHDFMX', 'HHDREL', 'MIGSAME', 'PARENT',\n",
       "       'PEFNTVTY', 'PEMNTVTY', 'PENATVTY', 'PRCITSHP', 'VETQVA'],\n",
       "      dtype='object')"
      ]
     },
     "execution_count": 42,
     "metadata": {},
     "output_type": "execute_result"
    }
   ],
   "source": [
    "# selecting columns with object datatypes\n",
    "df_population_obj = df_population.select_dtypes(include=[np.object])\n",
    "df_population_obj.columns"
   ]
  },
  {
   "cell_type": "markdown",
   "metadata": {},
   "source": [
    "# Bucketization:"
   ]
  },
  {
   "cell_type": "code",
   "execution_count": 43,
   "metadata": {},
   "outputs": [],
   "source": [
    "# The categorical values of each of the categorical attributes were studied and these appear to be different ,\n",
    "# hence a logical bucketization appeared not to be possible and therefore was not performed."
   ]
  },
  {
   "cell_type": "markdown",
   "metadata": {},
   "source": [
    "#  One-Hot Encoding:"
   ]
  },
  {
   "cell_type": "code",
   "execution_count": 44,
   "metadata": {
    "scrolled": true
   },
   "outputs": [
    {
     "name": "stdout",
     "output_type": "stream",
     "text": [
      "        ACLSWKR_ Federal government  ACLSWKR_ Local government  \\\n",
      "0                                 0                          0   \n",
      "1                                 0                          0   \n",
      "2                                 0                          0   \n",
      "3                                 0                          0   \n",
      "4                                 0                          0   \n",
      "...                             ...                        ...   \n",
      "199518                            0                          0   \n",
      "199519                            0                          0   \n",
      "199520                            0                          0   \n",
      "199521                            0                          0   \n",
      "199522                            0                          0   \n",
      "\n",
      "        ACLSWKR_ Never worked  ACLSWKR_ Not in universe  ACLSWKR_ Private  \\\n",
      "0                           0                         1                 0   \n",
      "1                           0                         0                 0   \n",
      "2                           0                         1                 0   \n",
      "3                           0                         1                 0   \n",
      "4                           0                         1                 0   \n",
      "...                       ...                       ...               ...   \n",
      "199518                      0                         1                 0   \n",
      "199519                      0                         0                 0   \n",
      "199520                      0                         1                 0   \n",
      "199521                      0                         1                 0   \n",
      "199522                      0                         0                 1   \n",
      "\n",
      "        ACLSWKR_ Self-employed-incorporated  \\\n",
      "0                                         0   \n",
      "1                                         0   \n",
      "2                                         0   \n",
      "3                                         0   \n",
      "4                                         0   \n",
      "...                                     ...   \n",
      "199518                                    0   \n",
      "199519                                    1   \n",
      "199520                                    0   \n",
      "199521                                    0   \n",
      "199522                                    0   \n",
      "\n",
      "        ACLSWKR_ Self-employed-not incorporated  ACLSWKR_ State government  \\\n",
      "0                                             0                          0   \n",
      "1                                             1                          0   \n",
      "2                                             0                          0   \n",
      "3                                             0                          0   \n",
      "4                                             0                          0   \n",
      "...                                         ...                        ...   \n",
      "199518                                        0                          0   \n",
      "199519                                        0                          0   \n",
      "199520                                        0                          0   \n",
      "199521                                        0                          0   \n",
      "199522                                        0                          0   \n",
      "\n",
      "        ACLSWKR_ Without pay  AHGA_ 10th grade  ...  PENATVTY_ Vietnam  \\\n",
      "0                          0                 0  ...                  0   \n",
      "1                          0                 0  ...                  0   \n",
      "2                          0                 1  ...                  1   \n",
      "3                          0                 0  ...                  0   \n",
      "4                          0                 0  ...                  0   \n",
      "...                      ...               ...  ...                ...   \n",
      "199518                     0                 0  ...                  0   \n",
      "199519                     0                 0  ...                  0   \n",
      "199520                     0                 0  ...                  0   \n",
      "199521                     0                 1  ...                  0   \n",
      "199522                     0                 0  ...                  0   \n",
      "\n",
      "        PENATVTY_ Yugoslavia  PRCITSHP_ Foreign born- Not a citizen of U S   \\\n",
      "0                          0                                              0   \n",
      "1                          0                                              0   \n",
      "2                          0                                              1   \n",
      "3                          0                                              0   \n",
      "4                          0                                              0   \n",
      "...                      ...                                            ...   \n",
      "199518                     0                                              0   \n",
      "199519                     0                                              0   \n",
      "199520                     0                                              0   \n",
      "199521                     0                                              0   \n",
      "199522                     0                                              1   \n",
      "\n",
      "        PRCITSHP_ Foreign born- U S citizen by naturalization  \\\n",
      "0                                                       0       \n",
      "1                                                       0       \n",
      "2                                                       0       \n",
      "3                                                       0       \n",
      "4                                                       0       \n",
      "...                                                   ...       \n",
      "199518                                                  0       \n",
      "199519                                                  0       \n",
      "199520                                                  1       \n",
      "199521                                                  0       \n",
      "199522                                                  0       \n",
      "\n",
      "        PRCITSHP_ Native- Born abroad of American Parent(s)  \\\n",
      "0                                                       0     \n",
      "1                                                       0     \n",
      "2                                                       0     \n",
      "3                                                       0     \n",
      "4                                                       0     \n",
      "...                                                   ...     \n",
      "199518                                                  0     \n",
      "199519                                                  0     \n",
      "199520                                                  0     \n",
      "199521                                                  0     \n",
      "199522                                                  0     \n",
      "\n",
      "        PRCITSHP_ Native- Born in Puerto Rico or U S Outlying  \\\n",
      "0                                                       0       \n",
      "1                                                       0       \n",
      "2                                                       0       \n",
      "3                                                       0       \n",
      "4                                                       0       \n",
      "...                                                   ...       \n",
      "199518                                                  0       \n",
      "199519                                                  0       \n",
      "199520                                                  0       \n",
      "199521                                                  0       \n",
      "199522                                                  0       \n",
      "\n",
      "        PRCITSHP_ Native- Born in the United States  VETQVA_ No  \\\n",
      "0                                                 1           0   \n",
      "1                                                 1           0   \n",
      "2                                                 0           0   \n",
      "3                                                 1           0   \n",
      "4                                                 1           0   \n",
      "...                                             ...         ...   \n",
      "199518                                            1           0   \n",
      "199519                                            1           0   \n",
      "199520                                            0           0   \n",
      "199521                                            1           0   \n",
      "199522                                            0           0   \n",
      "\n",
      "        VETQVA_ Not in universe  VETQVA_ Yes  \n",
      "0                             1            0  \n",
      "1                             1            0  \n",
      "2                             1            0  \n",
      "3                             1            0  \n",
      "4                             1            0  \n",
      "...                         ...          ...  \n",
      "199518                        1            0  \n",
      "199519                        1            0  \n",
      "199520                        1            0  \n",
      "199521                        1            0  \n",
      "199522                        1            0  \n",
      "\n",
      "[199523 rows x 359 columns]\n"
     ]
    }
   ],
   "source": [
    "# one hot encode the required features\n",
    "df_population_one_hot_encoded_data = pd.get_dummies(df_population[['ACLSWKR', 'AHGA', 'AHSCOL', 'AMARITL', 'AMJIND', 'AMJOCC', 'ARACE',\n",
    "       'AREORGN', 'ASEX', 'AUNMEM', 'AUNTYPE', 'AWKSTAT', 'FILESTAT',\n",
    "       'GRINREG', 'GRINST', 'HHDFMX', 'HHDREL', 'MIGSAME', 'PARENT',\n",
    "       'PEFNTVTY', 'PEMNTVTY', 'PENATVTY', 'PRCITSHP', 'VETQVA']], columns = ['ACLSWKR', 'AHGA', 'AHSCOL', 'AMARITL', 'AMJIND', 'AMJOCC', 'ARACE',\n",
    "       'AREORGN', 'ASEX', 'AUNMEM', 'AUNTYPE', 'AWKSTAT', 'FILESTAT',\n",
    "       'GRINREG', 'GRINST', 'HHDFMX', 'HHDREL', 'MIGSAME', 'PARENT',\n",
    "       'PEFNTVTY', 'PEMNTVTY', 'PENATVTY', 'PRCITSHP', 'VETQVA'])\n",
    "print(df_population_one_hot_encoded_data)"
   ]
  },
  {
   "cell_type": "code",
   "execution_count": 45,
   "metadata": {},
   "outputs": [],
   "source": [
    "# selecting columns with integer datatypes\n",
    "df_population_int =df_population[['AAGE_bin', 'ADTOCC_bin', 'ADTIND_bin',\n",
    "       'AHRSPAY_bin', 'CAPGAIN_bin', 'CAPLOSS_bin', 'DIVVAL_bin', 'NOEMP',\n",
    "       'SEOTR', 'VETYN', 'WKSWORK_bin', 'YEAR']]"
   ]
  },
  {
   "cell_type": "code",
   "execution_count": 46,
   "metadata": {},
   "outputs": [],
   "source": [
    "# Create concatenated dataframe\n",
    "data_population = pd.concat([df_population_int, df_population_one_hot_encoded_data], axis=1) "
   ]
  },
  {
   "cell_type": "markdown",
   "metadata": {},
   "source": [
    "# Q3 (d)"
   ]
  },
  {
   "cell_type": "markdown",
   "metadata": {},
   "source": [
    "# Clustering"
   ]
  },
  {
   "cell_type": "code",
   "execution_count": 47,
   "metadata": {},
   "outputs": [],
   "source": [
    "data_population_1 = data_population.copy()\n",
    "data_population_1['Label'] = -1"
   ]
  },
  {
   "cell_type": "markdown",
   "metadata": {},
   "source": [
    "## Performing Principal Component Analysis "
   ]
  },
  {
   "cell_type": "code",
   "execution_count": 48,
   "metadata": {},
   "outputs": [],
   "source": [
    "pca = PCA(n_components=2)\n",
    "data_population_pca = pca.fit_transform(data_population)"
   ]
  },
  {
   "cell_type": "markdown",
   "metadata": {},
   "source": [
    "## Finding the average within-cluster distance for the number of clusters (k) in the range 10 to 25"
   ]
  },
  {
   "cell_type": "code",
   "execution_count": 49,
   "metadata": {
    "scrolled": true
   },
   "outputs": [],
   "source": [
    "# Create empty lists to store cluster size and average within-cluster distances \n",
    "ks = []\n",
    "avg_dist = []\n",
    "\n",
    "# The kmedians function requires the initial value of medians to be given to it as an input.\n",
    "# However, no such value are given in the data, hence, we have used kmeans where k is ranging from 10 to 24 to find out\n",
    "# the set of centroids per value of k. These centroid values have been given as input to the kmedians function assuming\n",
    "# the centroids in the kmeans are the most central points in the clusters formed.\n",
    "\n",
    "for k in range(10,25):\n",
    "    model = KMeans(n_clusters=k, random_state=0).fit(data_population_pca)\n",
    "    centers = np.array(model.cluster_centers_)\n",
    "    ks.append(k)\n",
    "    # Create instance of K-Medians algorithm.\n",
    "    kmedians_instance = kmedians(data_population_pca, initial_medians = centers)\n",
    "    # Run cluster analysis and obtain results.\n",
    "    kmedians_instance.process()\n",
    "    clusters = kmedians_instance.get_clusters()\n",
    "    medians = kmedians_instance.get_medians()\n",
    "    for i in range(len(clusters)):\n",
    "        data_population_1.iloc[data_population_1.index.isin(clusters[i]),-1]=i\n",
    "    new_df_population = pd.DataFrame(data_population_pca, columns=['PC1','PC2'])\n",
    "    new_df_population['Label'] = data_population_1['Label']\n",
    "    dists=[]\n",
    "    for i, (mx, my) in enumerate(medians):\n",
    "        a= pd.DataFrame()\n",
    "        a=new_df_population[new_df_population['Label'] == i].iloc[:, :-1]\n",
    "        # To find out average within-cluster distance we have used dist = euclidean distance between (PC1, PC2) and (median1, median2)\n",
    "        a['dist'] = np.sqrt((a['PC1']-medians[i][0])**2+(a['PC2']-medians[i][1])**2)\n",
    "        dists.append(np.mean(a['dist']))\n",
    "    avg_dist.append(np.mean(dists))"
   ]
  },
  {
   "cell_type": "markdown",
   "metadata": {},
   "source": [
    "## Plotting the average within-cluster distance vs. a number of clusters graph.\n"
   ]
  },
  {
   "cell_type": "code",
   "execution_count": 50,
   "metadata": {},
   "outputs": [
    {
     "data": {
      "image/png": "[encoded data removed]",
      "text/plain": [
       "<Figure size 432x288 with 1 Axes>"
      ]
     },
     "metadata": {
      "needs_background": "light"
     },
     "output_type": "display_data"
    }
   ],
   "source": [
    "plt.plot(ks, avg_dist, 'bx-') \n",
    "plt.xlabel('Values of K') \n",
    "plt.ylabel('average within-cluster distance') \n",
    "plt.title('the average within-cluster distance vs. a number of clusters graph. ') \n",
    "plt.show()"
   ]
  },
  {
   "cell_type": "markdown",
   "metadata": {},
   "source": [
    "# Choosing the best value of k"
   ]
  },
  {
   "cell_type": "code",
   "execution_count": 51,
   "metadata": {},
   "outputs": [],
   "source": [
    "# From the above plot , the best value of k appears to be at k=24.However, as a comparision has to be made between the\n",
    "# clusters formed between population.csv and  more_than_50k.csv, so we tried to choose that particular value of k which\n",
    "# was optimally good and at the same time common across both the datasets.\n",
    "\n",
    "#For more_than_50k.csv the best value of k came at k=22, so we decided to use k=22 for both the datasets so that direct\n",
    "#comparision can be made between the clusters of the two datasets."
   ]
  },
  {
   "cell_type": "markdown",
   "metadata": {},
   "source": [
    "# Q3 (e)"
   ]
  },
  {
   "cell_type": "markdown",
   "metadata": {},
   "source": [
    "# Handling more_than_50k data"
   ]
  },
  {
   "cell_type": "code",
   "execution_count": 52,
   "metadata": {},
   "outputs": [],
   "source": [
    "# All the steps adopted on population.csv as per parts a, b, c and d have been duplicated in part e for more_than_50k.csv "
   ]
  },
  {
   "cell_type": "markdown",
   "metadata": {},
   "source": [
    "# Loading the dataset"
   ]
  },
  {
   "cell_type": "code",
   "execution_count": 53,
   "metadata": {},
   "outputs": [
    {
     "data": {
      "text/html": [
       "<div>\n",
       "<style scoped>\n",
       "    .dataframe tbody tr th:only-of-type {\n",
       "        vertical-align: middle;\n",
       "    }\n",
       "\n",
       "    .dataframe tbody tr th {\n",
       "        vertical-align: top;\n",
       "    }\n",
       "\n",
       "    .dataframe thead th {\n",
       "        text-align: right;\n",
       "    }\n",
       "</style>\n",
       "<table border=\"1\" class=\"dataframe\">\n",
       "  <thead>\n",
       "    <tr style=\"text-align: right;\">\n",
       "      <th></th>\n",
       "      <th>AAGE</th>\n",
       "      <th>ACLSWKR</th>\n",
       "      <th>ADTIND</th>\n",
       "      <th>ADTOCC</th>\n",
       "      <th>AHGA</th>\n",
       "      <th>AHRSPAY</th>\n",
       "      <th>AHSCOL</th>\n",
       "      <th>AMARITL</th>\n",
       "      <th>AMJIND</th>\n",
       "      <th>AMJOCC</th>\n",
       "      <th>...</th>\n",
       "      <th>PARENT</th>\n",
       "      <th>PEFNTVTY</th>\n",
       "      <th>PEMNTVTY</th>\n",
       "      <th>PENATVTY</th>\n",
       "      <th>PRCITSHP</th>\n",
       "      <th>SEOTR</th>\n",
       "      <th>VETQVA</th>\n",
       "      <th>VETYN</th>\n",
       "      <th>WKSWORK</th>\n",
       "      <th>YEAR</th>\n",
       "    </tr>\n",
       "  </thead>\n",
       "  <tbody>\n",
       "    <tr>\n",
       "      <th>0</th>\n",
       "      <td>57</td>\n",
       "      <td>Self-employed-incorporated</td>\n",
       "      <td>11</td>\n",
       "      <td>2</td>\n",
       "      <td>High school graduate</td>\n",
       "      <td>0</td>\n",
       "      <td>Not in universe</td>\n",
       "      <td>Married-civilian spouse present</td>\n",
       "      <td>Manufacturing-durable goods</td>\n",
       "      <td>Executive admin and managerial</td>\n",
       "      <td>...</td>\n",
       "      <td>Not in universe</td>\n",
       "      <td>United-States</td>\n",
       "      <td>United-States</td>\n",
       "      <td>United-States</td>\n",
       "      <td>Native- Born in the United States</td>\n",
       "      <td>0</td>\n",
       "      <td>Not in universe</td>\n",
       "      <td>2</td>\n",
       "      <td>52</td>\n",
       "      <td>95</td>\n",
       "    </tr>\n",
       "    <tr>\n",
       "      <th>1</th>\n",
       "      <td>44</td>\n",
       "      <td>Private</td>\n",
       "      <td>3</td>\n",
       "      <td>38</td>\n",
       "      <td>High school graduate</td>\n",
       "      <td>0</td>\n",
       "      <td>Not in universe</td>\n",
       "      <td>Married-civilian spouse present</td>\n",
       "      <td>Mining</td>\n",
       "      <td>Transportation and material moving</td>\n",
       "      <td>...</td>\n",
       "      <td>Not in universe</td>\n",
       "      <td>United-States</td>\n",
       "      <td>United-States</td>\n",
       "      <td>United-States</td>\n",
       "      <td>Native- Born in the United States</td>\n",
       "      <td>0</td>\n",
       "      <td>No</td>\n",
       "      <td>1</td>\n",
       "      <td>48</td>\n",
       "      <td>94</td>\n",
       "    </tr>\n",
       "    <tr>\n",
       "      <th>2</th>\n",
       "      <td>54</td>\n",
       "      <td>Private</td>\n",
       "      <td>19</td>\n",
       "      <td>26</td>\n",
       "      <td>High school graduate</td>\n",
       "      <td>1550</td>\n",
       "      <td>Not in universe</td>\n",
       "      <td>Married-civilian spouse present</td>\n",
       "      <td>Manufacturing-nondurable goods</td>\n",
       "      <td>Adm support including clerical</td>\n",
       "      <td>...</td>\n",
       "      <td>Not in universe</td>\n",
       "      <td>United-States</td>\n",
       "      <td>United-States</td>\n",
       "      <td>United-States</td>\n",
       "      <td>Native- Born in the United States</td>\n",
       "      <td>0</td>\n",
       "      <td>Not in universe</td>\n",
       "      <td>2</td>\n",
       "      <td>52</td>\n",
       "      <td>94</td>\n",
       "    </tr>\n",
       "    <tr>\n",
       "      <th>3</th>\n",
       "      <td>25</td>\n",
       "      <td>Private</td>\n",
       "      <td>33</td>\n",
       "      <td>2</td>\n",
       "      <td>9th grade</td>\n",
       "      <td>0</td>\n",
       "      <td>Not in universe</td>\n",
       "      <td>Never married</td>\n",
       "      <td>Retail trade</td>\n",
       "      <td>Executive admin and managerial</td>\n",
       "      <td>...</td>\n",
       "      <td>Not in universe</td>\n",
       "      <td>United-States</td>\n",
       "      <td>United-States</td>\n",
       "      <td>United-States</td>\n",
       "      <td>Native- Born in the United States</td>\n",
       "      <td>1</td>\n",
       "      <td>Not in universe</td>\n",
       "      <td>2</td>\n",
       "      <td>52</td>\n",
       "      <td>95</td>\n",
       "    </tr>\n",
       "    <tr>\n",
       "      <th>4</th>\n",
       "      <td>26</td>\n",
       "      <td>Private</td>\n",
       "      <td>11</td>\n",
       "      <td>5</td>\n",
       "      <td>Bachelors degree(BA AB BS)</td>\n",
       "      <td>0</td>\n",
       "      <td>Not in universe</td>\n",
       "      <td>Married-civilian spouse present</td>\n",
       "      <td>Manufacturing-durable goods</td>\n",
       "      <td>Professional specialty</td>\n",
       "      <td>...</td>\n",
       "      <td>Not in universe</td>\n",
       "      <td>United-States</td>\n",
       "      <td>United-States</td>\n",
       "      <td>United-States</td>\n",
       "      <td>Native- Born in the United States</td>\n",
       "      <td>0</td>\n",
       "      <td>Not in universe</td>\n",
       "      <td>2</td>\n",
       "      <td>52</td>\n",
       "      <td>95</td>\n",
       "    </tr>\n",
       "  </tbody>\n",
       "</table>\n",
       "<p>5 rows × 40 columns</p>\n",
       "</div>"
      ],
      "text/plain": [
       "   AAGE                      ACLSWKR  ADTIND  ADTOCC  \\\n",
       "0    57   Self-employed-incorporated      11       2   \n",
       "1    44                      Private       3      38   \n",
       "2    54                      Private      19      26   \n",
       "3    25                      Private      33       2   \n",
       "4    26                      Private      11       5   \n",
       "\n",
       "                          AHGA  AHRSPAY            AHSCOL  \\\n",
       "0         High school graduate        0   Not in universe   \n",
       "1         High school graduate        0   Not in universe   \n",
       "2         High school graduate     1550   Not in universe   \n",
       "3                    9th grade        0   Not in universe   \n",
       "4   Bachelors degree(BA AB BS)        0   Not in universe   \n",
       "\n",
       "                            AMARITL                           AMJIND  \\\n",
       "0   Married-civilian spouse present      Manufacturing-durable goods   \n",
       "1   Married-civilian spouse present                           Mining   \n",
       "2   Married-civilian spouse present   Manufacturing-nondurable goods   \n",
       "3                     Never married                     Retail trade   \n",
       "4   Married-civilian spouse present      Manufacturing-durable goods   \n",
       "\n",
       "                                AMJOCC  ...            PARENT        PEFNTVTY  \\\n",
       "0       Executive admin and managerial  ...   Not in universe   United-States   \n",
       "1   Transportation and material moving  ...   Not in universe   United-States   \n",
       "2       Adm support including clerical  ...   Not in universe   United-States   \n",
       "3       Executive admin and managerial  ...   Not in universe   United-States   \n",
       "4               Professional specialty  ...   Not in universe   United-States   \n",
       "\n",
       "         PEMNTVTY        PENATVTY                            PRCITSHP SEOTR  \\\n",
       "0   United-States   United-States   Native- Born in the United States     0   \n",
       "1   United-States   United-States   Native- Born in the United States     0   \n",
       "2   United-States   United-States   Native- Born in the United States     0   \n",
       "3   United-States   United-States   Native- Born in the United States     1   \n",
       "4   United-States   United-States   Native- Born in the United States     0   \n",
       "\n",
       "             VETQVA  VETYN  WKSWORK YEAR  \n",
       "0   Not in universe      2       52   95  \n",
       "1                No      1       48   94  \n",
       "2   Not in universe      2       52   94  \n",
       "3   Not in universe      2       52   95  \n",
       "4   Not in universe      2       52   95  \n",
       "\n",
       "[5 rows x 40 columns]"
      ]
     },
     "execution_count": 53,
     "metadata": {},
     "output_type": "execute_result"
    }
   ],
   "source": [
    "df_more_than_50k=pd.read_csv(\"more_than_50k.csv\")\n",
    "df_more_than_50k.head()"
   ]
  },
  {
   "cell_type": "markdown",
   "metadata": {},
   "source": [
    "## Preprocessing"
   ]
  },
  {
   "cell_type": "code",
   "execution_count": 54,
   "metadata": {
    "scrolled": true
   },
   "outputs": [],
   "source": [
    "df_more_than_50k=df_more_than_50k.replace(' ?', np.NaN)"
   ]
  },
  {
   "cell_type": "code",
   "execution_count": 55,
   "metadata": {
    "scrolled": true
   },
   "outputs": [
    {
     "data": {
      "text/plain": [
       "AAGE           0\n",
       "ACLSWKR        0\n",
       "ADTIND         0\n",
       "ADTOCC         0\n",
       "AHGA           0\n",
       "AHRSPAY        0\n",
       "AHSCOL         0\n",
       "AMARITL        0\n",
       "AMJIND         0\n",
       "AMJOCC         0\n",
       "ARACE          0\n",
       "AREORGN        0\n",
       "ASEX           0\n",
       "AUNMEM         0\n",
       "AUNTYPE        0\n",
       "AWKSTAT        0\n",
       "CAPGAIN        0\n",
       "CAPLOSS        0\n",
       "DIVVAL         0\n",
       "FILESTAT       0\n",
       "GRINREG        0\n",
       "GRINST        14\n",
       "HHDFMX         0\n",
       "HHDREL         0\n",
       "MIGMTR1     1906\n",
       "MIGMTR3     1906\n",
       "MIGMTR4     1906\n",
       "MIGSAME        0\n",
       "MIGSUN      1906\n",
       "NOEMP          0\n",
       "PARENT         0\n",
       "PEFNTVTY     162\n",
       "PEMNTVTY     134\n",
       "PENATVTY      93\n",
       "PRCITSHP       0\n",
       "SEOTR          0\n",
       "VETQVA         0\n",
       "VETYN          0\n",
       "WKSWORK        0\n",
       "YEAR           0\n",
       "dtype: int64"
      ]
     },
     "execution_count": 55,
     "metadata": {},
     "output_type": "execute_result"
    }
   ],
   "source": [
    "df_more_than_50k.isna().sum()"
   ]
  },
  {
   "cell_type": "code",
   "execution_count": 56,
   "metadata": {},
   "outputs": [
    {
     "data": {
      "text/plain": [
       "1074.0"
      ]
     },
     "execution_count": 56,
     "metadata": {},
     "output_type": "execute_result"
    }
   ],
   "source": [
    "df_more_than_50k.shape[0]*.3"
   ]
  },
  {
   "cell_type": "code",
   "execution_count": 57,
   "metadata": {
    "scrolled": true
   },
   "outputs": [],
   "source": [
    "df_more_than_50k=df_more_than_50k.drop(['MIGMTR1','MIGMTR3','MIGMTR4','MIGSUN'], axis=1)"
   ]
  },
  {
   "cell_type": "code",
   "execution_count": 58,
   "metadata": {},
   "outputs": [
    {
     "data": {
      "text/plain": [
       "Index(['AAGE', 'ACLSWKR', 'ADTIND', 'ADTOCC', 'AHGA', 'AHRSPAY', 'AHSCOL',\n",
       "       'AMARITL', 'AMJIND', 'AMJOCC', 'ARACE', 'AREORGN', 'ASEX', 'AUNMEM',\n",
       "       'AUNTYPE', 'AWKSTAT', 'CAPGAIN', 'CAPLOSS', 'DIVVAL', 'FILESTAT',\n",
       "       'GRINREG', 'GRINST', 'HHDFMX', 'HHDREL', 'MIGSAME', 'NOEMP', 'PARENT',\n",
       "       'PEFNTVTY', 'PEMNTVTY', 'PENATVTY', 'PRCITSHP', 'SEOTR', 'VETQVA',\n",
       "       'VETYN', 'WKSWORK', 'YEAR'],\n",
       "      dtype='object')"
      ]
     },
     "execution_count": 58,
     "metadata": {},
     "output_type": "execute_result"
    }
   ],
   "source": [
    "df_more_than_50k.columns"
   ]
  },
  {
   "cell_type": "code",
   "execution_count": 59,
   "metadata": {
    "scrolled": true
   },
   "outputs": [
    {
     "data": {
      "text/plain": [
       "AAGE         int64\n",
       "ACLSWKR     object\n",
       "ADTIND       int64\n",
       "ADTOCC       int64\n",
       "AHGA        object\n",
       "AHRSPAY      int64\n",
       "AHSCOL      object\n",
       "AMARITL     object\n",
       "AMJIND      object\n",
       "AMJOCC      object\n",
       "ARACE       object\n",
       "AREORGN     object\n",
       "ASEX        object\n",
       "AUNMEM      object\n",
       "AUNTYPE     object\n",
       "AWKSTAT     object\n",
       "CAPGAIN      int64\n",
       "CAPLOSS      int64\n",
       "DIVVAL       int64\n",
       "FILESTAT    object\n",
       "GRINREG     object\n",
       "GRINST      object\n",
       "HHDFMX      object\n",
       "HHDREL      object\n",
       "MIGSAME     object\n",
       "NOEMP        int64\n",
       "PARENT      object\n",
       "PEFNTVTY    object\n",
       "PEMNTVTY    object\n",
       "PENATVTY    object\n",
       "PRCITSHP    object\n",
       "SEOTR        int64\n",
       "VETQVA      object\n",
       "VETYN        int64\n",
       "WKSWORK      int64\n",
       "YEAR         int64\n",
       "dtype: object"
      ]
     },
     "execution_count": 59,
     "metadata": {},
     "output_type": "execute_result"
    }
   ],
   "source": [
    "df_more_than_50k.dtypes"
   ]
  },
  {
   "cell_type": "markdown",
   "metadata": {},
   "source": [
    "##  Convert numerical data into categorical data"
   ]
  },
  {
   "cell_type": "markdown",
   "metadata": {},
   "source": [
    "## Preprocessing age column"
   ]
  },
  {
   "cell_type": "code",
   "execution_count": 60,
   "metadata": {},
   "outputs": [
    {
     "name": "stdout",
     "output_type": "stream",
     "text": [
      "Total Null Values in AAGE column:\n",
      "0\n",
      "\n",
      "Minimum and Maximum values for AAGE column:\n",
      "18 90\n"
     ]
    }
   ],
   "source": [
    "#Display total null values\n",
    "print('Total Null Values in AAGE column:')\n",
    "print(df_more_than_50k['AAGE'].isna().sum())\n",
    "\n",
    "# Display minimum and maximum values\n",
    "print('\\nMinimum and Maximum values for AAGE column:')\n",
    "print(df_more_than_50k['AAGE'].min(), df_more_than_50k['AAGE'].max())"
   ]
  },
  {
   "cell_type": "code",
   "execution_count": 61,
   "metadata": {},
   "outputs": [
    {
     "data": {
      "text/plain": [
       "46    154\n",
       "47    140\n",
       "39    132\n",
       "37    124\n",
       "45    123\n",
       "     ... \n",
       "20      1\n",
       "89      1\n",
       "88      1\n",
       "83      1\n",
       "18      1\n",
       "Name: AAGE, Length: 73, dtype: int64"
      ]
     },
     "execution_count": 61,
     "metadata": {},
     "output_type": "execute_result"
    }
   ],
   "source": [
    "df_more_than_50k['AAGE'].value_counts()"
   ]
  },
  {
   "cell_type": "code",
   "execution_count": 62,
   "metadata": {},
   "outputs": [
    {
     "data": {
      "text/plain": [
       "6    700\n",
       "5    626\n",
       "3    589\n",
       "4    571\n",
       "2    439\n",
       "7    277\n",
       "1    241\n",
       "8    136\n",
       "Name: AAGE_bin, dtype: int64"
      ]
     },
     "execution_count": 62,
     "metadata": {},
     "output_type": "execute_result"
    }
   ],
   "source": [
    "#Discretizing the AAGE column \n",
    "\n",
    "cut_label_AAGE = ['1', '2', '3', '4', '5','6','7','8']\n",
    "\n",
    "cut_bins = [18, 30, 35, 40, 45,50, 60, 70, 90]\n",
    "\n",
    "#Creating a new column using the data after binning\n",
    "df_more_than_50k['AAGE_bin'] = pd.cut(df_more_than_50k['AAGE'], bins=cut_bins, labels=cut_label_AAGE)\n",
    "\n",
    "# Finding counts of unique values\n",
    "df_more_than_50k['AAGE_bin'].value_counts()"
   ]
  },
  {
   "cell_type": "markdown",
   "metadata": {},
   "source": [
    "## Preprocessing ADTIND column"
   ]
  },
  {
   "cell_type": "code",
   "execution_count": 63,
   "metadata": {},
   "outputs": [
    {
     "name": "stdout",
     "output_type": "stream",
     "text": [
      "Total Null Values in ADTIND column:\n",
      "0\n",
      "\n",
      "Minimum and Maximum values for ADTIND column:\n",
      "0 51\n"
     ]
    }
   ],
   "source": [
    "#Display total null values\n",
    "print('Total Null Values in ADTIND column:')\n",
    "print(df_more_than_50k['ADTIND'].isna().sum())\n",
    "\n",
    "# Display minimum and maximum values\n",
    "print('\\nMinimum and Maximum values for ADTIND column:')\n",
    "print(df_more_than_50k['ADTIND'].min(), df_more_than_50k['ADTIND'].max())"
   ]
  },
  {
   "cell_type": "code",
   "execution_count": 64,
   "metadata": {
    "scrolled": true
   },
   "outputs": [
    {
     "data": {
      "text/plain": [
       "45    321\n",
       "0     275\n",
       "43    267\n",
       "33    210\n",
       "32    170\n",
       "4     168\n",
       "42    163\n",
       "35    160\n",
       "41    158\n",
       "34    157\n",
       "37    127\n",
       "29    125\n",
       "47     92\n",
       "12     85\n",
       "50     83\n",
       "11     83\n",
       "25     83\n",
       "30     78\n",
       "31     72\n",
       "13     62\n",
       "16     45\n",
       "3      44\n",
       "49     44\n",
       "24     41\n",
       "38     36\n",
       "9      35\n",
       "44     32\n",
       "40     31\n",
       "2      31\n",
       "39     30\n",
       "19     26\n",
       "23     26\n",
       "15     26\n",
       "48     23\n",
       "8      22\n",
       "14     22\n",
       "26     16\n",
       "27     15\n",
       "5      14\n",
       "46     13\n",
       "18     11\n",
       "1      10\n",
       "7      10\n",
       "21      9\n",
       "22      7\n",
       "6       7\n",
       "20      5\n",
       "17      4\n",
       "51      3\n",
       "28      2\n",
       "36      1\n",
       "Name: ADTIND, dtype: int64"
      ]
     },
     "execution_count": 64,
     "metadata": {},
     "output_type": "execute_result"
    }
   ],
   "source": [
    "df_more_than_50k['ADTIND'].value_counts()"
   ]
  },
  {
   "cell_type": "code",
   "execution_count": 65,
   "metadata": {},
   "outputs": [
    {
     "data": {
      "text/plain": [
       "7    878\n",
       "3    568\n",
       "6    546\n",
       "5    527\n",
       "4    445\n",
       "2    341\n",
       "1    275\n",
       "Name: ADTIND_bin, dtype: int64"
      ]
     },
     "execution_count": 65,
     "metadata": {},
     "output_type": "execute_result"
    }
   ],
   "source": [
    "#Discretizing the ADTIND column \n",
    "cut_label_ADTIND = ['1', '2', '3', '4', '5','6','7']\n",
    "\n",
    "cut_bins = [-1, 0, 10, 28, 32, 35,42,51]\n",
    "\n",
    "#Creating a new column using the data after binning\n",
    "df_more_than_50k['ADTIND_bin'] = pd.cut(df_more_than_50k['ADTIND'], bins=cut_bins, labels=cut_label_ADTIND)\n",
    "\n",
    "# Finding counts of unique values\n",
    "df_more_than_50k['ADTIND_bin'].value_counts()"
   ]
  },
  {
   "cell_type": "markdown",
   "metadata": {},
   "source": [
    "## Preprocessing ADTOCC column"
   ]
  },
  {
   "cell_type": "code",
   "execution_count": 66,
   "metadata": {},
   "outputs": [
    {
     "name": "stdout",
     "output_type": "stream",
     "text": [
      "Total Null Values in ADTOCC column:\n",
      "0\n",
      "\n",
      "Minimum and Maximum values for ADTOCC column:\n",
      "0 46\n"
     ]
    }
   ],
   "source": [
    "#Display total null values\n",
    "print('Total Null Values in ADTOCC column:')\n",
    "print(df_more_than_50k['ADTOCC'].isna().sum())\n",
    "\n",
    "# Display minimum and maximum values\n",
    "print('\\nMinimum and Maximum values for ADTOCC column:')\n",
    "print(df_more_than_50k['ADTOCC'].min(), df_more_than_50k['ADTOCC'].max())"
   ]
  },
  {
   "cell_type": "code",
   "execution_count": 67,
   "metadata": {
    "scrolled": true
   },
   "outputs": [
    {
     "data": {
      "text/plain": [
       "2     820\n",
       "0     275\n",
       "4     189\n",
       "3     185\n",
       "16    174\n",
       "11    137\n",
       "12    136\n",
       "7     134\n",
       "17    130\n",
       "10    120\n",
       "8     115\n",
       "34    104\n",
       "33    101\n",
       "18     91\n",
       "35     82\n",
       "5      79\n",
       "28     73\n",
       "9      60\n",
       "36     52\n",
       "26     50\n",
       "15     47\n",
       "6      46\n",
       "38     40\n",
       "14     38\n",
       "19     35\n",
       "1      31\n",
       "43     29\n",
       "21     27\n",
       "39     25\n",
       "37     22\n",
       "13     17\n",
       "23     16\n",
       "30     11\n",
       "25     11\n",
       "32     10\n",
       "24     10\n",
       "45      8\n",
       "29      8\n",
       "44      8\n",
       "31      7\n",
       "22      6\n",
       "41      6\n",
       "40      5\n",
       "42      5\n",
       "46      3\n",
       "20      2\n",
       "Name: ADTOCC, dtype: int64"
      ]
     },
     "execution_count": 67,
     "metadata": {},
     "output_type": "execute_result"
    }
   ],
   "source": [
    "df_more_than_50k['ADTOCC'].value_counts()"
   ]
  },
  {
   "cell_type": "code",
   "execution_count": 68,
   "metadata": {},
   "outputs": [
    {
     "data": {
      "text/plain": [
       "2    1304\n",
       "3     850\n",
       "4     502\n",
       "6     304\n",
       "1     275\n",
       "7     203\n",
       "5     142\n",
       "Name: ADTOCC_bin, dtype: int64"
      ]
     },
     "execution_count": 68,
     "metadata": {},
     "output_type": "execute_result"
    }
   ],
   "source": [
    "#Discretizing the ADTOCC column \n",
    "cut_label_ADTOCC = ['1', '2', '3', '4', '5','6','7']\n",
    "\n",
    "cut_bins = [-1, 0, 5, 15, 25, 30, 35, 46]\n",
    "\n",
    "#Creating a new column using the data after binning\n",
    "df_more_than_50k['ADTOCC_bin'] = pd.cut(df_more_than_50k['ADTOCC'], bins=cut_bins, labels=cut_label_ADTOCC)\n",
    "\n",
    "# Finding counts of unique values\n",
    "df_more_than_50k['ADTOCC_bin'].value_counts()"
   ]
  },
  {
   "cell_type": "markdown",
   "metadata": {},
   "source": [
    "## Preprocessing AHRSPAY column"
   ]
  },
  {
   "cell_type": "code",
   "execution_count": 69,
   "metadata": {},
   "outputs": [
    {
     "name": "stdout",
     "output_type": "stream",
     "text": [
      "Total Null Values in AHRSPAY column:\n",
      "0\n",
      "\n",
      "Minimum and Maximum values for AHRSPAY column:\n",
      "0 8000\n"
     ]
    }
   ],
   "source": [
    "#Display total null values\n",
    "print('Total Null Values in AHRSPAY column:')\n",
    "print(df_more_than_50k['AHRSPAY'].isna().sum())\n",
    "\n",
    "# Display minimum and maximum values\n",
    "print('\\nMinimum and Maximum values for AHRSPAY column:')\n",
    "print(df_more_than_50k['AHRSPAY'].min(), df_more_than_50k['AHRSPAY'].max())"
   ]
  },
  {
   "cell_type": "code",
   "execution_count": 70,
   "metadata": {},
   "outputs": [
    {
     "data": {
      "text/plain": [
       "0       3431\n",
       "2100       9\n",
       "2000       8\n",
       "1700       5\n",
       "2200       5\n",
       "        ... \n",
       "525        1\n",
       "585        1\n",
       "625        1\n",
       "2700       1\n",
       "2010       1\n",
       "Name: AHRSPAY, Length: 85, dtype: int64"
      ]
     },
     "execution_count": 70,
     "metadata": {},
     "output_type": "execute_result"
    }
   ],
   "source": [
    "df_more_than_50k['AHRSPAY'].value_counts()"
   ]
  },
  {
   "cell_type": "code",
   "execution_count": 71,
   "metadata": {},
   "outputs": [
    {
     "data": {
      "text/plain": [
       "1    3431\n",
       "2      32\n",
       "Name: AHRSPAY_bin, dtype: int64"
      ]
     },
     "execution_count": 71,
     "metadata": {},
     "output_type": "execute_result"
    }
   ],
   "source": [
    "#Discretizing the AHRSPAY column \n",
    "cut_label_AHRSPAY = ['1', '2']\n",
    "\n",
    "cut_bins = [-1, 0,999]\n",
    "\n",
    "#Creating a new column using the data after binning\n",
    "df_more_than_50k['AHRSPAY_bin'] = pd.cut(df_more_than_50k['AHRSPAY'], bins=cut_bins, labels=cut_label_AHRSPAY)\n",
    "\n",
    "# Finding counts of unique values\n",
    "df_more_than_50k['AHRSPAY_bin'].value_counts()"
   ]
  },
  {
   "cell_type": "markdown",
   "metadata": {},
   "source": [
    "## Preprocessing CAPGAIN column"
   ]
  },
  {
   "cell_type": "code",
   "execution_count": 72,
   "metadata": {},
   "outputs": [
    {
     "name": "stdout",
     "output_type": "stream",
     "text": [
      "Total Null Values in CAPGAIN column:\n",
      "0\n",
      "\n",
      "Minimum and Maximum values for CAPGAIN column:\n",
      "0 99999\n"
     ]
    }
   ],
   "source": [
    "#Display total null values\n",
    "print('Total Null Values in CAPGAIN column:')\n",
    "print(df_more_than_50k['CAPGAIN'].isna().sum())\n",
    "\n",
    "# Display minimum and maximum values\n",
    "print('\\nMinimum and Maximum values for CAPGAIN column:')\n",
    "print(df_more_than_50k['CAPGAIN'].min(), df_more_than_50k['CAPGAIN'].max())"
   ]
  },
  {
   "cell_type": "code",
   "execution_count": 73,
   "metadata": {
    "scrolled": true
   },
   "outputs": [
    {
     "data": {
      "text/plain": [
       "0        2902\n",
       "15024     193\n",
       "7688       97\n",
       "99999      93\n",
       "7298       54\n",
       "27828      32\n",
       "14084      26\n",
       "10520      24\n",
       "20051      21\n",
       "4787       20\n",
       "13550      20\n",
       "10605      14\n",
       "5178       10\n",
       "9386       10\n",
       "3103        8\n",
       "4934        7\n",
       "7430        5\n",
       "18481       5\n",
       "6514        5\n",
       "6097        4\n",
       "25124       4\n",
       "25236       4\n",
       "11678       3\n",
       "15831       2\n",
       "4687        2\n",
       "15020       2\n",
       "7896        2\n",
       "7262        2\n",
       "4386        1\n",
       "8614        1\n",
       "9562        1\n",
       "2653        1\n",
       "3273        1\n",
       "3456        1\n",
       "5556        1\n",
       "6612        1\n",
       "4064        1\n",
       "Name: CAPGAIN, dtype: int64"
      ]
     },
     "execution_count": 73,
     "metadata": {},
     "output_type": "execute_result"
    }
   ],
   "source": [
    "df_more_than_50k['CAPGAIN'].value_counts()"
   ]
  },
  {
   "cell_type": "code",
   "execution_count": 74,
   "metadata": {},
   "outputs": [
    {
     "data": {
      "text/plain": [
       "1    2902\n",
       "2     678\n",
       "Name: CAPGAIN_bin, dtype: int64"
      ]
     },
     "execution_count": 74,
     "metadata": {},
     "output_type": "execute_result"
    }
   ],
   "source": [
    "#Discretizing the CAPGAIN column \n",
    "cut_label_CAPGAIN = ['1', '2']\n",
    "\n",
    "cut_bins = [-1, 0, 99999]\n",
    "#Creating a new column using the data after binning\n",
    "df_more_than_50k['CAPGAIN_bin'] = pd.cut(df_more_than_50k['CAPGAIN'], bins=cut_bins, labels=cut_label_CAPGAIN)\n",
    "\n",
    "# Finding counts of unique values\n",
    "df_more_than_50k['CAPGAIN_bin'].value_counts()"
   ]
  },
  {
   "cell_type": "markdown",
   "metadata": {},
   "source": [
    "## Preprocessing CAPLOSS column"
   ]
  },
  {
   "cell_type": "code",
   "execution_count": 75,
   "metadata": {},
   "outputs": [
    {
     "name": "stdout",
     "output_type": "stream",
     "text": [
      "Total Null Values in CAPLOSS column:\n",
      "0\n",
      "\n",
      "Minimum and Maximum values for CAPLOSS column:\n",
      "0 3004\n"
     ]
    }
   ],
   "source": [
    "#Display total null values\n",
    "print('Total Null Values in CAPLOSS column:')\n",
    "print(df_more_than_50k['CAPLOSS'].isna().sum())\n",
    "\n",
    "# Display minimum and maximum values\n",
    "print('\\nMinimum and Maximum values for CAPLOSS column:')\n",
    "print(df_more_than_50k['CAPLOSS'].min(), df_more_than_50k['CAPLOSS'].max())"
   ]
  },
  {
   "cell_type": "code",
   "execution_count": 76,
   "metadata": {
    "scrolled": true
   },
   "outputs": [
    {
     "data": {
      "text/plain": [
       "0       3243\n",
       "1902      89\n",
       "1977      87\n",
       "2415      32\n",
       "1887      28\n",
       "2258      19\n",
       "2824      12\n",
       "1564      10\n",
       "2559       9\n",
       "2444       6\n",
       "2174       5\n",
       "2377       4\n",
       "2472       3\n",
       "2392       3\n",
       "323        3\n",
       "2282       3\n",
       "3004       3\n",
       "2246       2\n",
       "1825       2\n",
       "653        2\n",
       "1848       2\n",
       "2547       2\n",
       "1408       2\n",
       "1092       1\n",
       "2231       1\n",
       "1669       1\n",
       "1380       1\n",
       "1740       1\n",
       "1876       1\n",
       "1485       1\n",
       "625        1\n",
       "2090       1\n",
       "Name: CAPLOSS, dtype: int64"
      ]
     },
     "execution_count": 76,
     "metadata": {},
     "output_type": "execute_result"
    }
   ],
   "source": [
    "df_more_than_50k['CAPLOSS'].value_counts()"
   ]
  },
  {
   "cell_type": "code",
   "execution_count": 77,
   "metadata": {},
   "outputs": [
    {
     "data": {
      "text/plain": [
       "1    3243\n",
       "2     337\n",
       "Name: CAPLOSS_bin, dtype: int64"
      ]
     },
     "execution_count": 77,
     "metadata": {},
     "output_type": "execute_result"
    }
   ],
   "source": [
    "#Discretizing the CAPLOSS column \n",
    "cut_label_CAPLOSS = ['1', '2']\n",
    "\n",
    "cut_bins = [-1, 0, 4608]\n",
    "\n",
    "#Creating a new column using the data after binning\n",
    "df_more_than_50k['CAPLOSS_bin'] = pd.cut(df_more_than_50k['CAPLOSS'], bins=cut_bins, labels=cut_label_CAPLOSS)\n",
    "\n",
    "# Finding counts of unique values\n",
    "df_more_than_50k['CAPLOSS_bin'].value_counts()"
   ]
  },
  {
   "cell_type": "markdown",
   "metadata": {},
   "source": [
    "## Preprocessing DIVVAL column"
   ]
  },
  {
   "cell_type": "code",
   "execution_count": 78,
   "metadata": {},
   "outputs": [
    {
     "name": "stdout",
     "output_type": "stream",
     "text": [
      "Total Null Values in DIVVAL column:\n",
      "0\n",
      "\n",
      "Minimum and Maximum values for DIVVAL column:\n",
      "0 99999\n"
     ]
    }
   ],
   "source": [
    "#Display total null values\n",
    "print('Total Null Values in DIVVAL column:')\n",
    "print(df_more_than_50k['DIVVAL'].isna().sum())\n",
    "\n",
    "# Display minimum and maximum values\n",
    "print('\\nMinimum and Maximum values for DIVVAL column:')\n",
    "print(df_more_than_50k['DIVVAL'].min(), df_more_than_50k['DIVVAL'].max())\n"
   ]
  },
  {
   "cell_type": "code",
   "execution_count": 79,
   "metadata": {},
   "outputs": [
    {
     "data": {
      "text/plain": [
       "0        2023\n",
       "1000      104\n",
       "100        81\n",
       "500        77\n",
       "200        65\n",
       "         ... \n",
       "2022        1\n",
       "7616        1\n",
       "6062        1\n",
       "12173       1\n",
       "1700        1\n",
       "Name: DIVVAL, Length: 302, dtype: int64"
      ]
     },
     "execution_count": 79,
     "metadata": {},
     "output_type": "execute_result"
    }
   ],
   "source": [
    "df_more_than_50k['DIVVAL'].value_counts()"
   ]
  },
  {
   "cell_type": "code",
   "execution_count": 80,
   "metadata": {},
   "outputs": [
    {
     "data": {
      "text/plain": [
       "1    2023\n",
       "2    1292\n",
       "Name: DIVVAL_bin, dtype: int64"
      ]
     },
     "execution_count": 80,
     "metadata": {},
     "output_type": "execute_result"
    }
   ],
   "source": [
    "#Discretizing the DIVVAL column \n",
    "cut_label_DIVVAL = ['1', '2']\n",
    "\n",
    "cut_bins = [-1, 0, 4608]\n",
    "\n",
    "#Creating a new column using the data after binning\n",
    "df_more_than_50k['DIVVAL_bin'] = pd.cut(df_more_than_50k['DIVVAL'], bins=cut_bins, labels=cut_label_DIVVAL)\n",
    "\n",
    "# Finding counts of unique values\n",
    "df_more_than_50k['DIVVAL_bin'].value_counts()"
   ]
  },
  {
   "cell_type": "markdown",
   "metadata": {},
   "source": [
    "## Preprocessing NOEMP column"
   ]
  },
  {
   "cell_type": "code",
   "execution_count": 81,
   "metadata": {},
   "outputs": [
    {
     "name": "stdout",
     "output_type": "stream",
     "text": [
      "Total Null Values in NOEMP column:\n",
      "0\n",
      "\n",
      "Minimum and Maximum values for NOEMP column:\n",
      "0 6\n"
     ]
    }
   ],
   "source": [
    "#Display total null values\n",
    "print('Total Null Values in NOEMP column:')\n",
    "print(df_more_than_50k['NOEMP'].isna().sum())\n",
    "\n",
    "# Display minimum and maximum values\n",
    "print('\\nMinimum and Maximum values for NOEMP column:')\n",
    "print(df_more_than_50k['NOEMP'].min(), df_more_than_50k['NOEMP'].max())"
   ]
  },
  {
   "cell_type": "code",
   "execution_count": 82,
   "metadata": {},
   "outputs": [
    {
     "data": {
      "text/plain": [
       "6    1601\n",
       "1     592\n",
       "4     429\n",
       "3     353\n",
       "2     232\n",
       "5     196\n",
       "0     177\n",
       "Name: NOEMP, dtype: int64"
      ]
     },
     "execution_count": 82,
     "metadata": {},
     "output_type": "execute_result"
    }
   ],
   "source": [
    "df_more_than_50k['NOEMP'].value_counts()"
   ]
  },
  {
   "cell_type": "markdown",
   "metadata": {},
   "source": [
    "## Preprocessing SEOTR column"
   ]
  },
  {
   "cell_type": "code",
   "execution_count": 83,
   "metadata": {},
   "outputs": [
    {
     "name": "stdout",
     "output_type": "stream",
     "text": [
      "Total Null Values in SEOTR column:\n",
      "0\n",
      "\n",
      "Minimum and Maximum values for SEOTR column:\n",
      "0 2\n"
     ]
    }
   ],
   "source": [
    "#Display total null values\n",
    "print('Total Null Values in SEOTR column:')\n",
    "print(df_more_than_50k['SEOTR'].isna().sum())\n",
    "\n",
    "# Display minimum and maximum values\n",
    "print('\\nMinimum and Maximum values for SEOTR column:')\n",
    "print(df_more_than_50k['SEOTR'].min(), df_more_than_50k['SEOTR'].max())\n"
   ]
  },
  {
   "cell_type": "code",
   "execution_count": 84,
   "metadata": {},
   "outputs": [
    {
     "data": {
      "text/plain": [
       "0    3028\n",
       "2     382\n",
       "1     170\n",
       "Name: SEOTR, dtype: int64"
      ]
     },
     "execution_count": 84,
     "metadata": {},
     "output_type": "execute_result"
    }
   ],
   "source": [
    "df_more_than_50k['SEOTR'].value_counts()"
   ]
  },
  {
   "cell_type": "markdown",
   "metadata": {},
   "source": [
    "## Preprocessing VETYN column"
   ]
  },
  {
   "cell_type": "code",
   "execution_count": 85,
   "metadata": {},
   "outputs": [
    {
     "name": "stdout",
     "output_type": "stream",
     "text": [
      "Total Null Values in VETYN column:\n",
      "0\n",
      "\n",
      "Minimum and Maximum values for VETYN column:\n",
      "1 2\n"
     ]
    }
   ],
   "source": [
    "#Display total null values\n",
    "print('Total Null Values in VETYN column:')\n",
    "print(df_more_than_50k['VETYN'].isna().sum())\n",
    "\n",
    "# Display minimum and maximum values\n",
    "print('\\nMinimum and Maximum values for VETYN column:')\n",
    "print(df_more_than_50k['VETYN'].min(), df_more_than_50k['VETYN'].max())\n"
   ]
  },
  {
   "cell_type": "code",
   "execution_count": 86,
   "metadata": {},
   "outputs": [
    {
     "data": {
      "text/plain": [
       "2    3517\n",
       "1      63\n",
       "Name: VETYN, dtype: int64"
      ]
     },
     "execution_count": 86,
     "metadata": {},
     "output_type": "execute_result"
    }
   ],
   "source": [
    "df_more_than_50k['VETYN'].value_counts()"
   ]
  },
  {
   "cell_type": "markdown",
   "metadata": {},
   "source": [
    "## Preprocessing WKSWORK column"
   ]
  },
  {
   "cell_type": "code",
   "execution_count": 87,
   "metadata": {},
   "outputs": [
    {
     "name": "stdout",
     "output_type": "stream",
     "text": [
      "Total Null Values in WKSWORK column:\n",
      "0\n",
      "\n",
      "Minimum and Maximum values for WKSWORK column:\n",
      "0 52\n"
     ]
    }
   ],
   "source": [
    "#Display total null values\n",
    "print('Total Null Values in WKSWORK column:')\n",
    "print(df_more_than_50k['WKSWORK'].isna().sum())\n",
    "\n",
    "# Display minimum and maximum values\n",
    "print('\\nMinimum and Maximum values for WKSWORK column:')\n",
    "print(df_more_than_50k['WKSWORK'].min(), df_more_than_50k['WKSWORK'].max())\n"
   ]
  },
  {
   "cell_type": "code",
   "execution_count": 88,
   "metadata": {
    "scrolled": true
   },
   "outputs": [
    {
     "data": {
      "text/plain": [
       "52    2977\n",
       "0      177\n",
       "50      68\n",
       "48      51\n",
       "40      50\n",
       "26      28\n",
       "51      25\n",
       "46      23\n",
       "49      16\n",
       "30      13\n",
       "32      13\n",
       "36      13\n",
       "44      10\n",
       "45       9\n",
       "8        8\n",
       "28       7\n",
       "39       7\n",
       "24       7\n",
       "20       7\n",
       "47       6\n",
       "12       6\n",
       "35       5\n",
       "1        4\n",
       "16       4\n",
       "42       4\n",
       "10       4\n",
       "13       4\n",
       "41       3\n",
       "29       3\n",
       "38       3\n",
       "34       3\n",
       "37       2\n",
       "21       2\n",
       "25       2\n",
       "3        2\n",
       "7        2\n",
       "43       2\n",
       "17       1\n",
       "33       1\n",
       "27       1\n",
       "22       1\n",
       "18       1\n",
       "14       1\n",
       "11       1\n",
       "15       1\n",
       "4        1\n",
       "2        1\n",
       "Name: WKSWORK, dtype: int64"
      ]
     },
     "execution_count": 88,
     "metadata": {},
     "output_type": "execute_result"
    }
   ],
   "source": [
    "df_more_than_50k['WKSWORK'].value_counts()"
   ]
  },
  {
   "cell_type": "code",
   "execution_count": 89,
   "metadata": {},
   "outputs": [
    {
     "data": {
      "text/plain": [
       "4    2977\n",
       "3     314\n",
       "1     177\n",
       "2     112\n",
       "Name: WKSWORK_bin, dtype: int64"
      ]
     },
     "execution_count": 89,
     "metadata": {},
     "output_type": "execute_result"
    }
   ],
   "source": [
    "#Discretizing the WKSWORK column \n",
    "cut_label_WKSWORK = ['1', '2', '3', '4']\n",
    "\n",
    "cut_bins = [-1, 0, 30, 51, 52]\n",
    "\n",
    "#Creating a new column using the data after binning\n",
    "df_more_than_50k['WKSWORK_bin'] = pd.cut(df_more_than_50k['WKSWORK'], bins=cut_bins, labels=cut_label_WKSWORK)\n",
    "\n",
    "# Finding counts of unique values\n",
    "df_more_than_50k['WKSWORK_bin'].value_counts()"
   ]
  },
  {
   "cell_type": "markdown",
   "metadata": {},
   "source": [
    "## Preprocessing YEAR column"
   ]
  },
  {
   "cell_type": "code",
   "execution_count": 90,
   "metadata": {},
   "outputs": [
    {
     "name": "stdout",
     "output_type": "stream",
     "text": [
      "Total Null Values in YEAR column:\n",
      "0\n",
      "\n",
      "Minimum and Maximum values for YEAR column:\n",
      "94 95\n"
     ]
    }
   ],
   "source": [
    "#Display total null values\n",
    "print('Total Null Values in YEAR column:')\n",
    "print(df_more_than_50k['YEAR'].isna().sum())\n",
    "\n",
    "# Display minimum and maximum values\n",
    "print('\\nMinimum and Maximum values for YEAR column:')\n",
    "print(df_more_than_50k['YEAR'].min(), df_more_than_50k['YEAR'].max())"
   ]
  },
  {
   "cell_type": "code",
   "execution_count": 91,
   "metadata": {},
   "outputs": [
    {
     "data": {
      "text/plain": [
       "95    1906\n",
       "94    1674\n",
       "Name: YEAR, dtype: int64"
      ]
     },
     "execution_count": 91,
     "metadata": {},
     "output_type": "execute_result"
    }
   ],
   "source": [
    "df_more_than_50k['YEAR'].value_counts()"
   ]
  },
  {
   "cell_type": "markdown",
   "metadata": {},
   "source": [
    "## Imputation, Bucketization, One-Hot Encoding :"
   ]
  },
  {
   "cell_type": "markdown",
   "metadata": {},
   "source": [
    "## Imputation: Using mode for each feature, replace the missing values in each column in both the datasets"
   ]
  },
  {
   "cell_type": "code",
   "execution_count": 92,
   "metadata": {},
   "outputs": [],
   "source": [
    "cols = df_more_than_50k.columns\n",
    "df_more_than_50k[cols]=df_more_than_50k[cols].fillna(df_more_than_50k.mode().iloc[0])"
   ]
  },
  {
   "cell_type": "code",
   "execution_count": 93,
   "metadata": {
    "scrolled": true
   },
   "outputs": [
    {
     "data": {
      "text/plain": [
       "AAGE           0\n",
       "ACLSWKR        0\n",
       "ADTIND         0\n",
       "ADTOCC         0\n",
       "AHGA           0\n",
       "AHRSPAY        0\n",
       "AHSCOL         0\n",
       "AMARITL        0\n",
       "AMJIND         0\n",
       "AMJOCC         0\n",
       "ARACE          0\n",
       "AREORGN        0\n",
       "ASEX           0\n",
       "AUNMEM         0\n",
       "AUNTYPE        0\n",
       "AWKSTAT        0\n",
       "CAPGAIN        0\n",
       "CAPLOSS        0\n",
       "DIVVAL         0\n",
       "FILESTAT       0\n",
       "GRINREG        0\n",
       "GRINST         0\n",
       "HHDFMX         0\n",
       "HHDREL         0\n",
       "MIGSAME        0\n",
       "NOEMP          0\n",
       "PARENT         0\n",
       "PEFNTVTY       0\n",
       "PEMNTVTY       0\n",
       "PENATVTY       0\n",
       "PRCITSHP       0\n",
       "SEOTR          0\n",
       "VETQVA         0\n",
       "VETYN          0\n",
       "WKSWORK        0\n",
       "YEAR           0\n",
       "AAGE_bin       0\n",
       "ADTIND_bin     0\n",
       "ADTOCC_bin     0\n",
       "AHRSPAY_bin    0\n",
       "CAPGAIN_bin    0\n",
       "CAPLOSS_bin    0\n",
       "DIVVAL_bin     0\n",
       "WKSWORK_bin    0\n",
       "dtype: int64"
      ]
     },
     "execution_count": 93,
     "metadata": {},
     "output_type": "execute_result"
    }
   ],
   "source": [
    "df_more_than_50k.isna().sum()"
   ]
  },
  {
   "cell_type": "code",
   "execution_count": 94,
   "metadata": {},
   "outputs": [
    {
     "data": {
      "text/plain": [
       "Index(['ACLSWKR', 'AHGA', 'AHSCOL', 'AMARITL', 'AMJIND', 'AMJOCC', 'ARACE',\n",
       "       'AREORGN', 'ASEX', 'AUNMEM', 'AUNTYPE', 'AWKSTAT', 'FILESTAT',\n",
       "       'GRINREG', 'GRINST', 'HHDFMX', 'HHDREL', 'MIGSAME', 'PARENT',\n",
       "       'PEFNTVTY', 'PEMNTVTY', 'PENATVTY', 'PRCITSHP', 'VETQVA'],\n",
       "      dtype='object')"
      ]
     },
     "execution_count": 94,
     "metadata": {},
     "output_type": "execute_result"
    }
   ],
   "source": [
    "# selecting columns with object datatypes\n",
    "df_more_than_50k_obj = df_more_than_50k.select_dtypes(include=[np.object])\n",
    "df_more_than_50k_obj.columns"
   ]
  },
  {
   "cell_type": "markdown",
   "metadata": {},
   "source": [
    "# Bucketization"
   ]
  },
  {
   "cell_type": "code",
   "execution_count": 95,
   "metadata": {},
   "outputs": [],
   "source": [
    "# The categorical values of each of the categorical attributes were studied and these appear to be different ,\n",
    "# hence a logical bucketization appeared not to be possible and therefore was not performed."
   ]
  },
  {
   "cell_type": "markdown",
   "metadata": {},
   "source": [
    "# One-Hot Encoding: "
   ]
  },
  {
   "cell_type": "code",
   "execution_count": 96,
   "metadata": {
    "scrolled": true
   },
   "outputs": [
    {
     "name": "stdout",
     "output_type": "stream",
     "text": [
      "      ACLSWKR_ Federal government  ACLSWKR_ Local government  \\\n",
      "0                               0                          0   \n",
      "1                               0                          0   \n",
      "2                               0                          0   \n",
      "3                               0                          0   \n",
      "4                               0                          0   \n",
      "...                           ...                        ...   \n",
      "3575                            0                          0   \n",
      "3576                            0                          0   \n",
      "3577                            0                          0   \n",
      "3578                            0                          0   \n",
      "3579                            0                          0   \n",
      "\n",
      "      ACLSWKR_ Never worked  ACLSWKR_ Not in universe  ACLSWKR_ Private  \\\n",
      "0                         0                         0                 0   \n",
      "1                         0                         0                 1   \n",
      "2                         0                         0                 1   \n",
      "3                         0                         0                 1   \n",
      "4                         0                         0                 1   \n",
      "...                     ...                       ...               ...   \n",
      "3575                      0                         0                 1   \n",
      "3576                      0                         0                 0   \n",
      "3577                      0                         0                 1   \n",
      "3578                      0                         0                 0   \n",
      "3579                      0                         1                 0   \n",
      "\n",
      "      ACLSWKR_ Self-employed-incorporated  \\\n",
      "0                                       1   \n",
      "1                                       0   \n",
      "2                                       0   \n",
      "3                                       0   \n",
      "4                                       0   \n",
      "...                                   ...   \n",
      "3575                                    0   \n",
      "3576                                    0   \n",
      "3577                                    0   \n",
      "3578                                    1   \n",
      "3579                                    0   \n",
      "\n",
      "      ACLSWKR_ Self-employed-not incorporated  ACLSWKR_ State government  \\\n",
      "0                                           0                          0   \n",
      "1                                           0                          0   \n",
      "2                                           0                          0   \n",
      "3                                           0                          0   \n",
      "4                                           0                          0   \n",
      "...                                       ...                        ...   \n",
      "3575                                        0                          0   \n",
      "3576                                        1                          0   \n",
      "3577                                        0                          0   \n",
      "3578                                        0                          0   \n",
      "3579                                        0                          0   \n",
      "\n",
      "      AHGA_ 10th grade  AHGA_ 11th grade  ...  PENATVTY_ Vietnam  \\\n",
      "0                    0                 0  ...                  0   \n",
      "1                    0                 0  ...                  0   \n",
      "2                    0                 0  ...                  0   \n",
      "3                    0                 0  ...                  0   \n",
      "4                    0                 0  ...                  0   \n",
      "...                ...               ...  ...                ...   \n",
      "3575                 0                 0  ...                  0   \n",
      "3576                 0                 0  ...                  0   \n",
      "3577                 0                 0  ...                  0   \n",
      "3578                 0                 0  ...                  0   \n",
      "3579                 0                 0  ...                  0   \n",
      "\n",
      "      PENATVTY_ Yugoslavia  PRCITSHP_ Foreign born- Not a citizen of U S   \\\n",
      "0                        0                                              0   \n",
      "1                        0                                              0   \n",
      "2                        0                                              0   \n",
      "3                        0                                              0   \n",
      "4                        0                                              0   \n",
      "...                    ...                                            ...   \n",
      "3575                     0                                              0   \n",
      "3576                     0                                              0   \n",
      "3577                     0                                              0   \n",
      "3578                     0                                              0   \n",
      "3579                     0                                              0   \n",
      "\n",
      "      PRCITSHP_ Foreign born- U S citizen by naturalization  \\\n",
      "0                                                     0       \n",
      "1                                                     0       \n",
      "2                                                     0       \n",
      "3                                                     0       \n",
      "4                                                     0       \n",
      "...                                                 ...       \n",
      "3575                                                  0       \n",
      "3576                                                  0       \n",
      "3577                                                  0       \n",
      "3578                                                  0       \n",
      "3579                                                  0       \n",
      "\n",
      "      PRCITSHP_ Native- Born abroad of American Parent(s)  \\\n",
      "0                                                     0     \n",
      "1                                                     0     \n",
      "2                                                     0     \n",
      "3                                                     0     \n",
      "4                                                     0     \n",
      "...                                                 ...     \n",
      "3575                                                  0     \n",
      "3576                                                  0     \n",
      "3577                                                  0     \n",
      "3578                                                  0     \n",
      "3579                                                  0     \n",
      "\n",
      "      PRCITSHP_ Native- Born in Puerto Rico or U S Outlying  \\\n",
      "0                                                     0       \n",
      "1                                                     0       \n",
      "2                                                     0       \n",
      "3                                                     0       \n",
      "4                                                     0       \n",
      "...                                                 ...       \n",
      "3575                                                  0       \n",
      "3576                                                  0       \n",
      "3577                                                  0       \n",
      "3578                                                  0       \n",
      "3579                                                  0       \n",
      "\n",
      "      PRCITSHP_ Native- Born in the United States  VETQVA_ No  \\\n",
      "0                                               1           0   \n",
      "1                                               1           1   \n",
      "2                                               1           0   \n",
      "3                                               1           0   \n",
      "4                                               1           0   \n",
      "...                                           ...         ...   \n",
      "3575                                            1           0   \n",
      "3576                                            1           0   \n",
      "3577                                            1           0   \n",
      "3578                                            1           0   \n",
      "3579                                            1           1   \n",
      "\n",
      "      VETQVA_ Not in universe  VETQVA_ Yes  \n",
      "0                           1            0  \n",
      "1                           0            0  \n",
      "2                           1            0  \n",
      "3                           1            0  \n",
      "4                           1            0  \n",
      "...                       ...          ...  \n",
      "3575                        1            0  \n",
      "3576                        1            0  \n",
      "3577                        1            0  \n",
      "3578                        1            0  \n",
      "3579                        0            0  \n",
      "\n",
      "[3580 rows x 302 columns]\n"
     ]
    }
   ],
   "source": [
    "# one hot encode the required features\n",
    "df_more_than_50k_one_hot_encoded_data = pd.get_dummies(df_more_than_50k[['ACLSWKR', 'AHGA', 'AHSCOL', 'AMARITL', 'AMJIND', 'AMJOCC', 'ARACE',\n",
    "       'AREORGN', 'ASEX', 'AUNMEM', 'AUNTYPE', 'AWKSTAT', 'FILESTAT',\n",
    "       'GRINREG', 'GRINST', 'HHDFMX', 'HHDREL', 'MIGSAME', 'PARENT',\n",
    "       'PEFNTVTY', 'PEMNTVTY', 'PENATVTY', 'PRCITSHP', 'VETQVA']], columns = ['ACLSWKR', 'AHGA', 'AHSCOL', 'AMARITL', 'AMJIND', 'AMJOCC', 'ARACE',\n",
    "       'AREORGN', 'ASEX', 'AUNMEM', 'AUNTYPE', 'AWKSTAT', 'FILESTAT',\n",
    "       'GRINREG', 'GRINST', 'HHDFMX', 'HHDREL', 'MIGSAME', 'PARENT',\n",
    "       'PEFNTVTY', 'PEMNTVTY', 'PENATVTY', 'PRCITSHP', 'VETQVA'])\n",
    "print(df_more_than_50k_one_hot_encoded_data)"
   ]
  },
  {
   "cell_type": "code",
   "execution_count": 97,
   "metadata": {},
   "outputs": [
    {
     "data": {
      "text/plain": [
       "Index(['ACLSWKR_ Federal government', 'ACLSWKR_ Local government',\n",
       "       'ACLSWKR_ Never worked', 'ACLSWKR_ Not in universe', 'ACLSWKR_ Private',\n",
       "       'ACLSWKR_ Self-employed-incorporated',\n",
       "       'ACLSWKR_ Self-employed-not incorporated', 'ACLSWKR_ State government',\n",
       "       'AHGA_ 10th grade', 'AHGA_ 11th grade',\n",
       "       ...\n",
       "       'PENATVTY_ Vietnam', 'PENATVTY_ Yugoslavia',\n",
       "       'PRCITSHP_ Foreign born- Not a citizen of U S ',\n",
       "       'PRCITSHP_ Foreign born- U S citizen by naturalization',\n",
       "       'PRCITSHP_ Native- Born abroad of American Parent(s)',\n",
       "       'PRCITSHP_ Native- Born in Puerto Rico or U S Outlying',\n",
       "       'PRCITSHP_ Native- Born in the United States', 'VETQVA_ No',\n",
       "       'VETQVA_ Not in universe', 'VETQVA_ Yes'],\n",
       "      dtype='object', length=302)"
      ]
     },
     "execution_count": 97,
     "metadata": {},
     "output_type": "execute_result"
    }
   ],
   "source": [
    "df_more_than_50k_one_hot_encoded_data.columns"
   ]
  },
  {
   "cell_type": "code",
   "execution_count": 98,
   "metadata": {},
   "outputs": [],
   "source": [
    "# selecting columns with integer datatypes\n",
    "df_more_than_50k_int =df_more_than_50k[['AAGE_bin', 'ADTOCC_bin', 'ADTIND_bin',\n",
    "       'AHRSPAY_bin', 'CAPGAIN_bin', 'CAPLOSS_bin', 'DIVVAL_bin', 'NOEMP',\n",
    "       'SEOTR', 'VETYN', 'WKSWORK_bin', 'YEAR']]"
   ]
  },
  {
   "cell_type": "code",
   "execution_count": 99,
   "metadata": {},
   "outputs": [
    {
     "data": {
      "text/html": [
       "<div>\n",
       "<style scoped>\n",
       "    .dataframe tbody tr th:only-of-type {\n",
       "        vertical-align: middle;\n",
       "    }\n",
       "\n",
       "    .dataframe tbody tr th {\n",
       "        vertical-align: top;\n",
       "    }\n",
       "\n",
       "    .dataframe thead th {\n",
       "        text-align: right;\n",
       "    }\n",
       "</style>\n",
       "<table border=\"1\" class=\"dataframe\">\n",
       "  <thead>\n",
       "    <tr style=\"text-align: right;\">\n",
       "      <th></th>\n",
       "      <th>AAGE_bin</th>\n",
       "      <th>ADTOCC_bin</th>\n",
       "      <th>ADTIND_bin</th>\n",
       "      <th>AHRSPAY_bin</th>\n",
       "      <th>CAPGAIN_bin</th>\n",
       "      <th>CAPLOSS_bin</th>\n",
       "      <th>DIVVAL_bin</th>\n",
       "      <th>NOEMP</th>\n",
       "      <th>SEOTR</th>\n",
       "      <th>VETYN</th>\n",
       "      <th>...</th>\n",
       "      <th>PENATVTY_ Vietnam</th>\n",
       "      <th>PENATVTY_ Yugoslavia</th>\n",
       "      <th>PRCITSHP_ Foreign born- Not a citizen of U S</th>\n",
       "      <th>PRCITSHP_ Foreign born- U S citizen by naturalization</th>\n",
       "      <th>PRCITSHP_ Native- Born abroad of American Parent(s)</th>\n",
       "      <th>PRCITSHP_ Native- Born in Puerto Rico or U S Outlying</th>\n",
       "      <th>PRCITSHP_ Native- Born in the United States</th>\n",
       "      <th>VETQVA_ No</th>\n",
       "      <th>VETQVA_ Not in universe</th>\n",
       "      <th>VETQVA_ Yes</th>\n",
       "    </tr>\n",
       "  </thead>\n",
       "  <tbody>\n",
       "    <tr>\n",
       "      <th>0</th>\n",
       "      <td>6</td>\n",
       "      <td>2</td>\n",
       "      <td>3</td>\n",
       "      <td>1</td>\n",
       "      <td>1</td>\n",
       "      <td>1</td>\n",
       "      <td>2</td>\n",
       "      <td>2</td>\n",
       "      <td>0</td>\n",
       "      <td>2</td>\n",
       "      <td>...</td>\n",
       "      <td>0</td>\n",
       "      <td>0</td>\n",
       "      <td>0</td>\n",
       "      <td>0</td>\n",
       "      <td>0</td>\n",
       "      <td>0</td>\n",
       "      <td>1</td>\n",
       "      <td>0</td>\n",
       "      <td>1</td>\n",
       "      <td>0</td>\n",
       "    </tr>\n",
       "    <tr>\n",
       "      <th>1</th>\n",
       "      <td>4</td>\n",
       "      <td>7</td>\n",
       "      <td>2</td>\n",
       "      <td>1</td>\n",
       "      <td>1</td>\n",
       "      <td>1</td>\n",
       "      <td>1</td>\n",
       "      <td>4</td>\n",
       "      <td>0</td>\n",
       "      <td>1</td>\n",
       "      <td>...</td>\n",
       "      <td>0</td>\n",
       "      <td>0</td>\n",
       "      <td>0</td>\n",
       "      <td>0</td>\n",
       "      <td>0</td>\n",
       "      <td>0</td>\n",
       "      <td>1</td>\n",
       "      <td>1</td>\n",
       "      <td>0</td>\n",
       "      <td>0</td>\n",
       "    </tr>\n",
       "    <tr>\n",
       "      <th>2</th>\n",
       "      <td>6</td>\n",
       "      <td>5</td>\n",
       "      <td>3</td>\n",
       "      <td>1</td>\n",
       "      <td>1</td>\n",
       "      <td>1</td>\n",
       "      <td>1</td>\n",
       "      <td>6</td>\n",
       "      <td>0</td>\n",
       "      <td>2</td>\n",
       "      <td>...</td>\n",
       "      <td>0</td>\n",
       "      <td>0</td>\n",
       "      <td>0</td>\n",
       "      <td>0</td>\n",
       "      <td>0</td>\n",
       "      <td>0</td>\n",
       "      <td>1</td>\n",
       "      <td>0</td>\n",
       "      <td>1</td>\n",
       "      <td>0</td>\n",
       "    </tr>\n",
       "    <tr>\n",
       "      <th>3</th>\n",
       "      <td>1</td>\n",
       "      <td>2</td>\n",
       "      <td>5</td>\n",
       "      <td>1</td>\n",
       "      <td>2</td>\n",
       "      <td>1</td>\n",
       "      <td>2</td>\n",
       "      <td>2</td>\n",
       "      <td>1</td>\n",
       "      <td>2</td>\n",
       "      <td>...</td>\n",
       "      <td>0</td>\n",
       "      <td>0</td>\n",
       "      <td>0</td>\n",
       "      <td>0</td>\n",
       "      <td>0</td>\n",
       "      <td>0</td>\n",
       "      <td>1</td>\n",
       "      <td>0</td>\n",
       "      <td>1</td>\n",
       "      <td>0</td>\n",
       "    </tr>\n",
       "    <tr>\n",
       "      <th>4</th>\n",
       "      <td>1</td>\n",
       "      <td>2</td>\n",
       "      <td>3</td>\n",
       "      <td>1</td>\n",
       "      <td>1</td>\n",
       "      <td>1</td>\n",
       "      <td>2</td>\n",
       "      <td>6</td>\n",
       "      <td>0</td>\n",
       "      <td>2</td>\n",
       "      <td>...</td>\n",
       "      <td>0</td>\n",
       "      <td>0</td>\n",
       "      <td>0</td>\n",
       "      <td>0</td>\n",
       "      <td>0</td>\n",
       "      <td>0</td>\n",
       "      <td>1</td>\n",
       "      <td>0</td>\n",
       "      <td>1</td>\n",
       "      <td>0</td>\n",
       "    </tr>\n",
       "    <tr>\n",
       "      <th>...</th>\n",
       "      <td>...</td>\n",
       "      <td>...</td>\n",
       "      <td>...</td>\n",
       "      <td>...</td>\n",
       "      <td>...</td>\n",
       "      <td>...</td>\n",
       "      <td>...</td>\n",
       "      <td>...</td>\n",
       "      <td>...</td>\n",
       "      <td>...</td>\n",
       "      <td>...</td>\n",
       "      <td>...</td>\n",
       "      <td>...</td>\n",
       "      <td>...</td>\n",
       "      <td>...</td>\n",
       "      <td>...</td>\n",
       "      <td>...</td>\n",
       "      <td>...</td>\n",
       "      <td>...</td>\n",
       "      <td>...</td>\n",
       "      <td>...</td>\n",
       "    </tr>\n",
       "    <tr>\n",
       "      <th>3575</th>\n",
       "      <td>6</td>\n",
       "      <td>7</td>\n",
       "      <td>3</td>\n",
       "      <td>1</td>\n",
       "      <td>1</td>\n",
       "      <td>1</td>\n",
       "      <td>2</td>\n",
       "      <td>6</td>\n",
       "      <td>0</td>\n",
       "      <td>2</td>\n",
       "      <td>...</td>\n",
       "      <td>0</td>\n",
       "      <td>0</td>\n",
       "      <td>0</td>\n",
       "      <td>0</td>\n",
       "      <td>0</td>\n",
       "      <td>0</td>\n",
       "      <td>1</td>\n",
       "      <td>0</td>\n",
       "      <td>1</td>\n",
       "      <td>0</td>\n",
       "    </tr>\n",
       "    <tr>\n",
       "      <th>3576</th>\n",
       "      <td>7</td>\n",
       "      <td>3</td>\n",
       "      <td>6</td>\n",
       "      <td>1</td>\n",
       "      <td>1</td>\n",
       "      <td>1</td>\n",
       "      <td>1</td>\n",
       "      <td>1</td>\n",
       "      <td>0</td>\n",
       "      <td>2</td>\n",
       "      <td>...</td>\n",
       "      <td>0</td>\n",
       "      <td>0</td>\n",
       "      <td>0</td>\n",
       "      <td>0</td>\n",
       "      <td>0</td>\n",
       "      <td>0</td>\n",
       "      <td>1</td>\n",
       "      <td>0</td>\n",
       "      <td>1</td>\n",
       "      <td>0</td>\n",
       "    </tr>\n",
       "    <tr>\n",
       "      <th>3577</th>\n",
       "      <td>3</td>\n",
       "      <td>3</td>\n",
       "      <td>6</td>\n",
       "      <td>1</td>\n",
       "      <td>1</td>\n",
       "      <td>1</td>\n",
       "      <td>1</td>\n",
       "      <td>6</td>\n",
       "      <td>0</td>\n",
       "      <td>2</td>\n",
       "      <td>...</td>\n",
       "      <td>0</td>\n",
       "      <td>0</td>\n",
       "      <td>0</td>\n",
       "      <td>0</td>\n",
       "      <td>0</td>\n",
       "      <td>0</td>\n",
       "      <td>1</td>\n",
       "      <td>0</td>\n",
       "      <td>1</td>\n",
       "      <td>0</td>\n",
       "    </tr>\n",
       "    <tr>\n",
       "      <th>3578</th>\n",
       "      <td>6</td>\n",
       "      <td>2</td>\n",
       "      <td>5</td>\n",
       "      <td>1</td>\n",
       "      <td>1</td>\n",
       "      <td>2</td>\n",
       "      <td>2</td>\n",
       "      <td>2</td>\n",
       "      <td>0</td>\n",
       "      <td>2</td>\n",
       "      <td>...</td>\n",
       "      <td>0</td>\n",
       "      <td>0</td>\n",
       "      <td>0</td>\n",
       "      <td>0</td>\n",
       "      <td>0</td>\n",
       "      <td>0</td>\n",
       "      <td>1</td>\n",
       "      <td>0</td>\n",
       "      <td>1</td>\n",
       "      <td>0</td>\n",
       "    </tr>\n",
       "    <tr>\n",
       "      <th>3579</th>\n",
       "      <td>7</td>\n",
       "      <td>1</td>\n",
       "      <td>1</td>\n",
       "      <td>1</td>\n",
       "      <td>1</td>\n",
       "      <td>2</td>\n",
       "      <td>1</td>\n",
       "      <td>0</td>\n",
       "      <td>0</td>\n",
       "      <td>1</td>\n",
       "      <td>...</td>\n",
       "      <td>0</td>\n",
       "      <td>0</td>\n",
       "      <td>0</td>\n",
       "      <td>0</td>\n",
       "      <td>0</td>\n",
       "      <td>0</td>\n",
       "      <td>1</td>\n",
       "      <td>1</td>\n",
       "      <td>0</td>\n",
       "      <td>0</td>\n",
       "    </tr>\n",
       "  </tbody>\n",
       "</table>\n",
       "<p>3580 rows × 314 columns</p>\n",
       "</div>"
      ],
      "text/plain": [
       "     AAGE_bin ADTOCC_bin ADTIND_bin AHRSPAY_bin CAPGAIN_bin CAPLOSS_bin  \\\n",
       "0           6          2          3           1           1           1   \n",
       "1           4          7          2           1           1           1   \n",
       "2           6          5          3           1           1           1   \n",
       "3           1          2          5           1           2           1   \n",
       "4           1          2          3           1           1           1   \n",
       "...       ...        ...        ...         ...         ...         ...   \n",
       "3575        6          7          3           1           1           1   \n",
       "3576        7          3          6           1           1           1   \n",
       "3577        3          3          6           1           1           1   \n",
       "3578        6          2          5           1           1           2   \n",
       "3579        7          1          1           1           1           2   \n",
       "\n",
       "     DIVVAL_bin  NOEMP  SEOTR  VETYN  ... PENATVTY_ Vietnam  \\\n",
       "0             2      2      0      2  ...                 0   \n",
       "1             1      4      0      1  ...                 0   \n",
       "2             1      6      0      2  ...                 0   \n",
       "3             2      2      1      2  ...                 0   \n",
       "4             2      6      0      2  ...                 0   \n",
       "...         ...    ...    ...    ...  ...               ...   \n",
       "3575          2      6      0      2  ...                 0   \n",
       "3576          1      1      0      2  ...                 0   \n",
       "3577          1      6      0      2  ...                 0   \n",
       "3578          2      2      0      2  ...                 0   \n",
       "3579          1      0      0      1  ...                 0   \n",
       "\n",
       "      PENATVTY_ Yugoslavia  PRCITSHP_ Foreign born- Not a citizen of U S   \\\n",
       "0                        0                                              0   \n",
       "1                        0                                              0   \n",
       "2                        0                                              0   \n",
       "3                        0                                              0   \n",
       "4                        0                                              0   \n",
       "...                    ...                                            ...   \n",
       "3575                     0                                              0   \n",
       "3576                     0                                              0   \n",
       "3577                     0                                              0   \n",
       "3578                     0                                              0   \n",
       "3579                     0                                              0   \n",
       "\n",
       "      PRCITSHP_ Foreign born- U S citizen by naturalization  \\\n",
       "0                                                     0       \n",
       "1                                                     0       \n",
       "2                                                     0       \n",
       "3                                                     0       \n",
       "4                                                     0       \n",
       "...                                                 ...       \n",
       "3575                                                  0       \n",
       "3576                                                  0       \n",
       "3577                                                  0       \n",
       "3578                                                  0       \n",
       "3579                                                  0       \n",
       "\n",
       "      PRCITSHP_ Native- Born abroad of American Parent(s)  \\\n",
       "0                                                     0     \n",
       "1                                                     0     \n",
       "2                                                     0     \n",
       "3                                                     0     \n",
       "4                                                     0     \n",
       "...                                                 ...     \n",
       "3575                                                  0     \n",
       "3576                                                  0     \n",
       "3577                                                  0     \n",
       "3578                                                  0     \n",
       "3579                                                  0     \n",
       "\n",
       "      PRCITSHP_ Native- Born in Puerto Rico or U S Outlying  \\\n",
       "0                                                     0       \n",
       "1                                                     0       \n",
       "2                                                     0       \n",
       "3                                                     0       \n",
       "4                                                     0       \n",
       "...                                                 ...       \n",
       "3575                                                  0       \n",
       "3576                                                  0       \n",
       "3577                                                  0       \n",
       "3578                                                  0       \n",
       "3579                                                  0       \n",
       "\n",
       "      PRCITSHP_ Native- Born in the United States  VETQVA_ No  \\\n",
       "0                                               1           0   \n",
       "1                                               1           1   \n",
       "2                                               1           0   \n",
       "3                                               1           0   \n",
       "4                                               1           0   \n",
       "...                                           ...         ...   \n",
       "3575                                            1           0   \n",
       "3576                                            1           0   \n",
       "3577                                            1           0   \n",
       "3578                                            1           0   \n",
       "3579                                            1           1   \n",
       "\n",
       "      VETQVA_ Not in universe  VETQVA_ Yes  \n",
       "0                           1            0  \n",
       "1                           0            0  \n",
       "2                           1            0  \n",
       "3                           1            0  \n",
       "4                           1            0  \n",
       "...                       ...          ...  \n",
       "3575                        1            0  \n",
       "3576                        1            0  \n",
       "3577                        1            0  \n",
       "3578                        1            0  \n",
       "3579                        0            0  \n",
       "\n",
       "[3580 rows x 314 columns]"
      ]
     },
     "execution_count": 99,
     "metadata": {},
     "output_type": "execute_result"
    }
   ],
   "source": [
    "# Create concatenated dataframe\n",
    "data_more_than_50k = pd.concat([df_more_than_50k_int, df_more_than_50k_one_hot_encoded_data], axis=1) \n",
    "data_more_than_50k"
   ]
  },
  {
   "cell_type": "markdown",
   "metadata": {},
   "source": [
    "## Clustering"
   ]
  },
  {
   "cell_type": "code",
   "execution_count": 100,
   "metadata": {},
   "outputs": [],
   "source": [
    "data_more_than_50k_1 = data_more_than_50k.copy()\n",
    "data_more_than_50k_1['Label'] = -1"
   ]
  },
  {
   "cell_type": "markdown",
   "metadata": {},
   "source": [
    "# Performing Principal Component Analysis"
   ]
  },
  {
   "cell_type": "code",
   "execution_count": 101,
   "metadata": {},
   "outputs": [],
   "source": [
    "pca = PCA(n_components=2)\n",
    "data_more_than_50k_pca = pca.fit_transform(data_more_than_50k)"
   ]
  },
  {
   "cell_type": "markdown",
   "metadata": {},
   "source": [
    "# Finding the average within-cluster distance for the number of clusters (k) in the range 10 to 25"
   ]
  },
  {
   "cell_type": "code",
   "execution_count": 102,
   "metadata": {
    "scrolled": true
   },
   "outputs": [],
   "source": [
    "# Create empty lists to store cluster size and average within-cluster distances\n",
    "ks = []\n",
    "avg_dist = []\n",
    "\n",
    "# The kmedians function requires the initial value of medians to be given to it as an input.\n",
    "# However, no such value are given in the data, hence, we have used kmeans where k is ranging from 10 to 24 to find out\n",
    "# the set of centroids per value of k. These centroid values have been given as input to the kmedians function assuming\n",
    "# the centroids in the kmeans are the most central points in the clusters formed.\n",
    "\n",
    "for k in range(10,25):\n",
    "    model = KMeans(n_clusters=k, random_state=0).fit(data_more_than_50k_pca)\n",
    "    centers = np.array(model.cluster_centers_)\n",
    "    ks.append(k)\n",
    "    # Create instance of K-Medians algorithm.\n",
    "    kmedians_instance = kmedians(data_more_than_50k_pca, initial_medians = centers)\n",
    "    # Run cluster analysis and obtain results.\n",
    "    kmedians_instance.process()\n",
    "    clusters = kmedians_instance.get_clusters()\n",
    "    medians = kmedians_instance.get_medians()\n",
    "    for i in range(len(clusters)):\n",
    "        data_more_than_50k_1.iloc[data_more_than_50k_1.index.isin(clusters[i]),-1]=i\n",
    "    new_df_more_than_50k = pd.DataFrame(data_more_than_50k_pca, columns=['PC1','PC2'])\n",
    "    new_df_more_than_50k['Label'] = data_more_than_50k_1['Label']\n",
    "    dists=[]\n",
    "    for i, (cx, cy) in enumerate(medians):\n",
    "        a= pd.DataFrame()\n",
    "        a=new_df_more_than_50k[new_df_more_than_50k['Label'] == i].iloc[:, :-1]\n",
    "        a['dist'] = np.sqrt((a['PC1']-medians[i][0])**2+(a['PC2']-medians[i][1])**2)\n",
    "        dists.append(np.mean(a['dist']))\n",
    "    avg_dist.append(np.mean(dists))"
   ]
  },
  {
   "cell_type": "markdown",
   "metadata": {},
   "source": [
    "# Plotting the average within-cluster distance vs. a number of clusters graph."
   ]
  },
  {
   "cell_type": "code",
   "execution_count": 103,
   "metadata": {},
   "outputs": [
    {
     "data": {
      "image/png": "[encoded data removed]",
      "text/plain": [
       "<Figure size 432x288 with 1 Axes>"
      ]
     },
     "metadata": {
      "needs_background": "light"
     },
     "output_type": "display_data"
    }
   ],
   "source": [
    "# plotting the average within-cluster distance vs. a number of clusters graph.\n",
    "plt.plot(ks, avg_dist, 'bx-') \n",
    "plt.xlabel('Values of K') \n",
    "plt.ylabel('average within-cluster distance') \n",
    "plt.title('the average within-cluster distance vs. a number of clusters graph.') \n",
    "plt.show()"
   ]
  },
  {
   "cell_type": "markdown",
   "metadata": {},
   "source": [
    "# 3 (f)\n",
    "\n",
    "# Compare the Population dataset with the more than 50k dataset"
   ]
  },
  {
   "cell_type": "markdown",
   "metadata": {},
   "source": [
    "## Compare the proportion of data in each cluster for the more than 50k data to the proportion of data in each cluster for the general population."
   ]
  },
  {
   "cell_type": "code",
   "execution_count": 104,
   "metadata": {},
   "outputs": [],
   "source": [
    "model = KMeans(n_clusters=22, random_state=0).fit(data_population_pca)\n",
    "centers = np.array(model.cluster_centers_)\n",
    "ks.append(k)\n",
    "# Create instance of K-Medians algorithm.\n",
    "kmedians_instance1 = kmedians(data_population_pca, initial_medians = centers)\n",
    "# Run cluster analysis and obtain results.\n",
    "kmedians_instance1.process()\n",
    "clusters = kmedians_instance1.get_clusters()\n",
    "medians = kmedians_instance1.get_medians()\n",
    "for i in range(len(clusters)):\n",
    "    data_population_1.iloc[data_population_1.index.isin(clusters[i]),-1]=i\n",
    "new_df_population = pd.DataFrame(data_population_pca, columns=['PC1','PC2'])\n",
    "new_df_population['Label'] = data_population_1['Label']"
   ]
  },
  {
   "cell_type": "code",
   "execution_count": 105,
   "metadata": {},
   "outputs": [],
   "source": [
    "model = KMeans(n_clusters=22, random_state=0).fit(data_more_than_50k_pca)\n",
    "centers = np.array(model.cluster_centers_)\n",
    "ks.append(k)\n",
    "# Create instance of K-Medians algorithm.\n",
    "kmedians_instance2 = kmedians(data_more_than_50k_pca, initial_medians = centers)\n",
    "# Run cluster analysis and obtain results.\n",
    "kmedians_instance2.process()\n",
    "clusters = kmedians_instance2.get_clusters()\n",
    "medians = kmedians_instance2.get_medians()\n",
    "for i in range(len(clusters)):\n",
    "    data_more_than_50k_1.iloc[data_more_than_50k_1.index.isin(clusters[i]),-1]=i\n",
    "new_df_more_than_50k = pd.DataFrame(data_more_than_50k_pca, columns=['PC1','PC2'])\n",
    "new_df_more_than_50k['Label'] = data_more_than_50k_1['Label']"
   ]
  },
  {
   "cell_type": "code",
   "execution_count": 106,
   "metadata": {},
   "outputs": [],
   "source": [
    "# proportion of data in each cluster for the more than 50k data and for the general population\n",
    "population_cluster_prop = new_df_population['Label'].value_counts()/new_df_population.shape[0]\n",
    "more_than_50k_cluster_prop = new_df_more_than_50k['Label'].value_counts()/new_df_more_than_50k.shape[0]"
   ]
  },
  {
   "cell_type": "code",
   "execution_count": 107,
   "metadata": {},
   "outputs": [
    {
     "data": {
      "image/png": "[encoded data removed]",
      "text/plain": [
       "<Figure size 2160x576 with 2 Axes>"
      ]
     },
     "metadata": {
      "needs_background": "light"
     },
     "output_type": "display_data"
    }
   ],
   "source": [
    "# barplots to show proportion of data in each cluster in the general population and more than 50k data\n",
    "fig, (ax1, ax2) = plt.subplots(1,2, figsize=(30, 8))\n",
    "fig.suptitle('Cluster PROPORTION')\n",
    "ax2.set_title('more_than_50k_cluster_prop')\n",
    "ax1.set_title('General Population')\n",
    "sns.barplot(x=more_than_50k_cluster_prop.index, y=more_than_50k_cluster_prop, ax=ax2)\n",
    "sns.barplot(x=population_cluster_prop.index, y=population_cluster_prop, ax=ax1)\n",
    "plt.show()"
   ]
  },
  {
   "cell_type": "markdown",
   "metadata": {},
   "source": [
    "## What kind of people are part of a cluster overrepresented in the more than 50k data compared to the general population?"
   ]
  },
  {
   "cell_type": "code",
   "execution_count": 164,
   "metadata": {},
   "outputs": [],
   "source": [
    "# Our strategy to find out overreprentation is to sort the clusters in decreasing order of their counts and\n",
    "# compare the largest cluster of population.csv to that of more_than_50k"
   ]
  },
  {
   "cell_type": "markdown",
   "metadata": {},
   "source": [
    "# Finding topmost cluster represented"
   ]
  },
  {
   "cell_type": "code",
   "execution_count": 130,
   "metadata": {},
   "outputs": [
    {
     "data": {
      "text/plain": [
       "9     0.081685\n",
       "14    0.079570\n",
       "3     0.074307\n",
       "12    0.071470\n",
       "2     0.064754\n",
       "19    0.055332\n",
       "11    0.054510\n",
       "0     0.044636\n",
       "7     0.044361\n",
       "8     0.043820\n",
       "21    0.039955\n",
       "10    0.039690\n",
       "1     0.037484\n",
       "20    0.037324\n",
       "4     0.035650\n",
       "18    0.035409\n",
       "6     0.033816\n",
       "5     0.030829\n",
       "13    0.029906\n",
       "16    0.028984\n",
       "15    0.019682\n",
       "17    0.016825\n",
       "Name: Label, dtype: float64"
      ]
     },
     "execution_count": 130,
     "metadata": {},
     "output_type": "execute_result"
    }
   ],
   "source": [
    "# population dataset\n",
    "cluster_population = population_cluster_prop.sort_values(ascending=False)\n",
    "cluster_population"
   ]
  },
  {
   "cell_type": "code",
   "execution_count": 129,
   "metadata": {},
   "outputs": [
    {
     "data": {
      "text/plain": [
       "3     0.070112\n",
       "4     0.070112\n",
       "11    0.066480\n",
       "21    0.054749\n",
       "10    0.051676\n",
       "1     0.050279\n",
       "5     0.050000\n",
       "19    0.049162\n",
       "16    0.048045\n",
       "2     0.048045\n",
       "14    0.046927\n",
       "18    0.044413\n",
       "6     0.044134\n",
       "13    0.042179\n",
       "17    0.040782\n",
       "15    0.040223\n",
       "12    0.037151\n",
       "7     0.036313\n",
       "20    0.035475\n",
       "8     0.030447\n",
       "9     0.026536\n",
       "0     0.016760\n",
       "Name: Label, dtype: float64"
      ]
     },
     "execution_count": 129,
     "metadata": {},
     "output_type": "execute_result"
    }
   ],
   "source": [
    "# more_than_50k dataset\n",
    "cluster_more_than_50k = more_than_50k_cluster_prop.sort_values(ascending=False)\n",
    "cluster_more_than_50k"
   ]
  },
  {
   "cell_type": "markdown",
   "metadata": {},
   "source": [
    "# Applying PCA inverse transform to the features of the topmost cluster"
   ]
  },
  {
   "cell_type": "code",
   "execution_count": null,
   "metadata": {},
   "outputs": [],
   "source": [
    "# The strategy is as follows: We assume that the overrepresented cluster is the one that is having the maximum count for each of the \n",
    "# dataset respectively\n",
    "# As the cluster number are automatically assigned by the function . hence direct differences between similar numbered\n",
    "# clusters of the two datasets seems to be illogical. Hence we have tried to avoid this."
   ]
  },
  {
   "cell_type": "markdown",
   "metadata": {},
   "source": [
    "# We perform inverse transform of PCA to find out the most impactful features."
   ]
  },
  {
   "cell_type": "code",
   "execution_count": 126,
   "metadata": {},
   "outputs": [],
   "source": [
    "def plot_scaled_comparison(df_sample, kmedians_instance, cluster, pca):\n",
    "    #pca inverse transform on clusters\n",
    "    m = kmedians_instance.get_medians()\n",
    "    inv_pca= pca.inverse_transform(m[cluster])\n",
    "    #convert to dict and use columns from full space\n",
    "    df_dict=dict(zip(df_sample.columns, inv_pca))\n",
    "    #make dataframe\n",
    "    df=pd.DataFrame.from_dict(df_dict, orient='index').rename( \n",
    "        columns={0: 'feature_values'}).sort_values('feature_values', ascending=False)\n",
    "    df['feature_values_abs']=abs(df['feature_values'])\n",
    "    viz_df= pd.concat((df['feature_values'][:10], df['feature_values'][-10:]), axis=0)\n",
    "    viz_df.plot(kind='barh')"
   ]
  },
  {
   "cell_type": "code",
   "execution_count": 127,
   "metadata": {},
   "outputs": [
    {
     "data": {
      "image/png": "[encoded data removed]",
      "text/plain": [
       "<Figure size 432x288 with 1 Axes>"
      ]
     },
     "metadata": {
      "needs_background": "light"
     },
     "output_type": "display_data"
    }
   ],
   "source": [
    "plot_scaled_comparison(data_population, kmedians_instance1,9, pca)"
   ]
  },
  {
   "cell_type": "code",
   "execution_count": 132,
   "metadata": {},
   "outputs": [],
   "source": [
    "# Description for top 5 features in the population data \n",
    "# YEAR: data collected in the year\n",
    "# NOEMP : num persons worked for employer\n",
    "# ADTIND_bin: industry code\n",
    "# WKSWORK_bin: weeks worked in year\n",
    "# ADTOCC_bin: occupation code"
   ]
  },
  {
   "cell_type": "code",
   "execution_count": 133,
   "metadata": {},
   "outputs": [],
   "source": [
    "# Filtering records for population data\n",
    "ind1 = new_df_population[new_df_population['Label'] ==9].index\n",
    "data_population_clus1 = data_population[new_df_population.index.isin(ind1)]"
   ]
  },
  {
   "cell_type": "code",
   "execution_count": 134,
   "metadata": {},
   "outputs": [
    {
     "name": "stdout",
     "output_type": "stream",
     "text": [
      " Min data collected in the year : 94\n",
      " Max data collected in the year : 95\n",
      " Mean data collected in the year : 94.49306663394282\n",
      " Median data collected in the year : 94.0\n",
      " Mode data collected in the year : 0    94\n",
      "dtype: int64\n"
     ]
    }
   ],
   "source": [
    "print(\" Min data collected in the year :\", data_population_clus1['YEAR'].min())\n",
    "print(\" Max data collected in the year :\", data_population_clus1['YEAR'].max())\n",
    "print(\" Mean data collected in the year :\", data_population_clus1['YEAR'].mean())\n",
    "print(\" Median data collected in the year :\", data_population_clus1['YEAR'].median())\n",
    "print(\" Mode data collected in the year :\", data_population_clus1['YEAR'].mode())"
   ]
  },
  {
   "cell_type": "code",
   "execution_count": 137,
   "metadata": {},
   "outputs": [
    {
     "name": "stdout",
     "output_type": "stream",
     "text": [
      " Min num persons worked for employer : 0\n",
      " Max num persons worked for employer : 0\n",
      " Mean num persons worked for employer : 0.0\n",
      " Median num persons worked for employer : 0.0\n",
      " Mode num persons worked for employer : 0    0\n",
      "dtype: int64\n"
     ]
    }
   ],
   "source": [
    "print(\" Min num persons worked for employer :\", data_population_clus1['NOEMP'].min())\n",
    "print(\" Max num persons worked for employer :\", data_population_clus1['NOEMP'].max())\n",
    "print(\" Mean num persons worked for employer :\", data_population_clus1['NOEMP'].mean())\n",
    "print(\" Median num persons worked for employer :\", data_population_clus1['NOEMP'].median())\n",
    "print(\" Mode num persons worked for employer :\", data_population_clus1['NOEMP'].mode())"
   ]
  },
  {
   "cell_type": "code",
   "execution_count": 138,
   "metadata": {},
   "outputs": [],
   "source": [
    "# Minimum and maximum number persons worked for employer are 0 and 0\n",
    "# Mean of number persons worked for employer is 0\n",
    "# mode of the number persons worked for employer are 0 \n",
    "# median of the number persons worked for employer are 0 "
   ]
  },
  {
   "cell_type": "code",
   "execution_count": 139,
   "metadata": {},
   "outputs": [
    {
     "name": "stdout",
     "output_type": "stream",
     "text": [
      " Min industry code : 1\n",
      " Max industry code : 1\n",
      " Mode industry code : 0    1\n",
      "Name: ADTIND_bin, dtype: category\n",
      "Categories (7, object): [1 < 2 < 3 < 4 < 5 < 6 < 7]\n"
     ]
    }
   ],
   "source": [
    "print(\" Min industry code :\", data_population_clus1['ADTIND_bin'].min())\n",
    "print(\" Max industry code :\", data_population_clus1['ADTIND_bin'].max())\n",
    "print(\" Mode industry code :\", data_population_clus1['ADTIND_bin'].mode())"
   ]
  },
  {
   "cell_type": "code",
   "execution_count": 121,
   "metadata": {},
   "outputs": [],
   "source": [
    "# minimum, maximum  and mode ADTIND_bin refers to industry code of 1,1  and 1"
   ]
  },
  {
   "cell_type": "code",
   "execution_count": 140,
   "metadata": {},
   "outputs": [
    {
     "name": "stdout",
     "output_type": "stream",
     "text": [
      " Min weeks worked in year  : 1\n",
      " Max weeks worked in year  : 1\n",
      " Mode weeks worked in year : 0    1\n",
      "Name: WKSWORK_bin, dtype: category\n",
      "Categories (4, object): [1 < 2 < 3 < 4]\n"
     ]
    }
   ],
   "source": [
    "print(\" Min weeks worked in year  :\", data_population_clus1['WKSWORK_bin'].min())\n",
    "print(\" Max weeks worked in year  :\", data_population_clus1['WKSWORK_bin'].max())\n",
    "print(\" Mode weeks worked in year :\", data_population_clus1['WKSWORK_bin'].mode())"
   ]
  },
  {
   "cell_type": "code",
   "execution_count": 125,
   "metadata": {},
   "outputs": [],
   "source": [
    "# minimum and maximum WKSWORK_bin of 1 and 1 refers to 1 weeks worked in year "
   ]
  },
  {
   "cell_type": "code",
   "execution_count": 141,
   "metadata": {},
   "outputs": [
    {
     "name": "stdout",
     "output_type": "stream",
     "text": [
      " Min occupation code : 1\n",
      " Max occupation code : 1\n",
      " Mode occupation code: 0    1\n",
      "Name: ADTOCC_bin, dtype: category\n",
      "Categories (7, object): [1 < 2 < 3 < 4 < 5 < 6 < 7]\n"
     ]
    }
   ],
   "source": [
    "print(\" Min occupation code :\", data_population_clus1['ADTOCC_bin'].min())\n",
    "print(\" Max occupation code :\", data_population_clus1['ADTOCC_bin'].max())\n",
    "print(\" Mode occupation code:\", data_population_clus1['ADTOCC_bin'].mode())"
   ]
  },
  {
   "cell_type": "code",
   "execution_count": 142,
   "metadata": {},
   "outputs": [],
   "source": [
    "# minimum and maximum ADTOCC_bin of 1 "
   ]
  },
  {
   "cell_type": "code",
   "execution_count": 144,
   "metadata": {},
   "outputs": [
    {
     "data": {
      "image/png": "[encoded data removed]",
      "text/plain": [
       "<Figure size 432x288 with 1 Axes>"
      ]
     },
     "metadata": {
      "needs_background": "light"
     },
     "output_type": "display_data"
    }
   ],
   "source": [
    "plot_scaled_comparison(data_more_than_50k, kmedians_instance2, 3, pca)"
   ]
  },
  {
   "cell_type": "code",
   "execution_count": 129,
   "metadata": {},
   "outputs": [],
   "source": [
    "# Description for top 5 features in the more_than_50k data\n",
    "# YEAR: data collected in the year\n",
    "# NOEMP: num persons worked for employer\n",
    "# ADTIND_bin: industry code\n",
    "# WKSWORK_bin: weeks worked in year\n",
    "# AAGE_bin: age"
   ]
  },
  {
   "cell_type": "code",
   "execution_count": 146,
   "metadata": {},
   "outputs": [],
   "source": [
    "# Filtering records for more_than_50k data\n",
    "ind2 = new_df_more_than_50k[new_df_more_than_50k['Label'] ==3].index\n",
    "data_more_than_50k_clus2 = data_more_than_50k[new_df_more_than_50k.index.isin(ind2)]"
   ]
  },
  {
   "cell_type": "code",
   "execution_count": 147,
   "metadata": {},
   "outputs": [
    {
     "name": "stdout",
     "output_type": "stream",
     "text": [
      " Min data collected in the year : 94\n",
      " Max data collected in the year : 95\n",
      " Mean data collected in the year : 94.5219123505976\n",
      " Median data collected in the year : 95.0\n",
      " Mode data collected in the year : 0    95\n",
      "dtype: int64\n"
     ]
    }
   ],
   "source": [
    "print(\" Min data collected in the year :\", data_more_than_50k_clus2['YEAR'].min())\n",
    "print(\" Max data collected in the year :\", data_more_than_50k_clus2['YEAR'].max())\n",
    "print(\" Mean data collected in the year :\", data_more_than_50k_clus2['YEAR'].mean())\n",
    "print(\" Median data collected in the year :\", data_more_than_50k_clus2['YEAR'].median())\n",
    "print(\" Mode data collected in the year :\", data_more_than_50k_clus2['YEAR'].mode())"
   ]
  },
  {
   "cell_type": "code",
   "execution_count": 149,
   "metadata": {},
   "outputs": [],
   "source": [
    "# minimum and maximum data collected in the year are 94 and 95 with mean of 94.5219123505976 and median of 94.0"
   ]
  },
  {
   "cell_type": "code",
   "execution_count": 150,
   "metadata": {},
   "outputs": [
    {
     "name": "stdout",
     "output_type": "stream",
     "text": [
      " Min num persons worked for employer : 3\n",
      " Max num persons worked for employer : 6\n",
      " Mean num persons worked for employer : 5.334661354581673\n",
      " Median num persons worked for employer : 6.0\n",
      " Mode num persons worked for employer : 0    6\n",
      "dtype: int64\n"
     ]
    }
   ],
   "source": [
    "print(\" Min num persons worked for employer :\", data_more_than_50k_clus2['NOEMP'].min())\n",
    "print(\" Max num persons worked for employer :\", data_more_than_50k_clus2['NOEMP'].max())\n",
    "print(\" Mean num persons worked for employer :\", data_more_than_50k_clus2['NOEMP'].mean())\n",
    "print(\" Median num persons worked for employer :\", data_more_than_50k_clus2['NOEMP'].median())\n",
    "print(\" Mode num persons worked for employer :\", data_more_than_50k_clus2['NOEMP'].mode())"
   ]
  },
  {
   "cell_type": "code",
   "execution_count": 134,
   "metadata": {},
   "outputs": [],
   "source": [
    "# Minimum and maximum number persons worked for employer are 3 and 6\n",
    "# Mean of number persons worked for employer is 5.334661354581673\n",
    "# mode of the number persons worked for employer are 6 \n",
    "# median of the number persons worked for employer are 6"
   ]
  },
  {
   "cell_type": "code",
   "execution_count": 151,
   "metadata": {},
   "outputs": [
    {
     "name": "stdout",
     "output_type": "stream",
     "text": [
      " Min industry code : 4\n",
      " Max industry code : 6\n",
      " Mode industry code : 0    5\n",
      "Name: ADTIND_bin, dtype: category\n",
      "Categories (7, object): [1 < 2 < 3 < 4 < 5 < 6 < 7]\n"
     ]
    }
   ],
   "source": [
    "print(\" Min industry code :\", data_more_than_50k_clus2['ADTIND_bin'].min())\n",
    "print(\" Max industry code :\", data_more_than_50k_clus2['ADTIND_bin'].max())\n",
    "print(\" Mode industry code :\", data_more_than_50k_clus2['ADTIND_bin'].mode())"
   ]
  },
  {
   "cell_type": "code",
   "execution_count": 152,
   "metadata": {},
   "outputs": [],
   "source": [
    "# minimum and maximum ADTIND_bin refers to industry code of 4 and 6"
   ]
  },
  {
   "cell_type": "code",
   "execution_count": 153,
   "metadata": {},
   "outputs": [
    {
     "name": "stdout",
     "output_type": "stream",
     "text": [
      " Min weeks worked in year  : 2\n",
      " Max weeks worked in year  : 4\n",
      " Mode weeks worked in year : 0    4\n",
      "Name: WKSWORK_bin, dtype: category\n",
      "Categories (4, object): [1 < 2 < 3 < 4]\n"
     ]
    }
   ],
   "source": [
    "print(\" Min weeks worked in year  :\", data_more_than_50k_clus2['WKSWORK_bin'].min())\n",
    "print(\" Max weeks worked in year  :\", data_more_than_50k_clus2['WKSWORK_bin'].max())\n",
    "print(\" Mode weeks worked in year :\", data_more_than_50k_clus2['WKSWORK_bin'].mode())"
   ]
  },
  {
   "cell_type": "code",
   "execution_count": 138,
   "metadata": {},
   "outputs": [],
   "source": [
    "# minimum and maximum WKSWORK_bin of 2 and 4 refers to 1 to 52 weeks worked in year "
   ]
  },
  {
   "cell_type": "code",
   "execution_count": 154,
   "metadata": {},
   "outputs": [
    {
     "name": "stdout",
     "output_type": "stream",
     "text": [
      " Min age  : 1\n",
      " Max age  : 7\n",
      " Mode age : 0    5\n",
      "Name: AAGE_bin, dtype: category\n",
      "Categories (8, object): [1 < 2 < 3 < 4 < 5 < 6 < 7 < 8]\n"
     ]
    }
   ],
   "source": [
    "print(\" Min age  :\", data_more_than_50k_clus2['AAGE_bin'].min())\n",
    "print(\" Max age  :\", data_more_than_50k_clus2['AAGE_bin'].max())\n",
    "print(\" Mode age :\", data_more_than_50k_clus2['AAGE_bin'].mode())"
   ]
  },
  {
   "cell_type": "code",
   "execution_count": 140,
   "metadata": {},
   "outputs": [],
   "source": [
    "# minimum and maximum AAGE_bin of 1 and 7 refers to age between 18 to 70"
   ]
  },
  {
   "cell_type": "markdown",
   "metadata": {},
   "source": [
    "## Clusters that are over-represented in the general population vs more than 50k population"
   ]
  },
  {
   "cell_type": "code",
   "execution_count": 175,
   "metadata": {},
   "outputs": [
    {
     "data": {
      "text/html": [
       "<div>\n",
       "<style scoped>\n",
       "    .dataframe tbody tr th:only-of-type {\n",
       "        vertical-align: middle;\n",
       "    }\n",
       "\n",
       "    .dataframe tbody tr th {\n",
       "        vertical-align: top;\n",
       "    }\n",
       "\n",
       "    .dataframe thead th {\n",
       "        text-align: right;\n",
       "    }\n",
       "</style>\n",
       "<table border=\"1\" class=\"dataframe\">\n",
       "  <thead>\n",
       "    <tr style=\"text-align: right;\">\n",
       "      <th></th>\n",
       "      <th>proportion_population</th>\n",
       "      <th>cluster_num_population</th>\n",
       "      <th>proportion_more_than_50k</th>\n",
       "      <th>cluster_num_more_than_50k</th>\n",
       "      <th>Difference</th>\n",
       "    </tr>\n",
       "  </thead>\n",
       "  <tbody>\n",
       "    <tr>\n",
       "      <th>0</th>\n",
       "      <td>0.081685</td>\n",
       "      <td>9</td>\n",
       "      <td>0.070112</td>\n",
       "      <td>3</td>\n",
       "      <td>0.011573</td>\n",
       "    </tr>\n",
       "    <tr>\n",
       "      <th>1</th>\n",
       "      <td>0.079570</td>\n",
       "      <td>14</td>\n",
       "      <td>0.070112</td>\n",
       "      <td>4</td>\n",
       "      <td>0.009458</td>\n",
       "    </tr>\n",
       "    <tr>\n",
       "      <th>2</th>\n",
       "      <td>0.074307</td>\n",
       "      <td>3</td>\n",
       "      <td>0.066480</td>\n",
       "      <td>11</td>\n",
       "      <td>0.007827</td>\n",
       "    </tr>\n",
       "    <tr>\n",
       "      <th>3</th>\n",
       "      <td>0.071470</td>\n",
       "      <td>12</td>\n",
       "      <td>0.054749</td>\n",
       "      <td>21</td>\n",
       "      <td>0.016722</td>\n",
       "    </tr>\n",
       "    <tr>\n",
       "      <th>4</th>\n",
       "      <td>0.064754</td>\n",
       "      <td>2</td>\n",
       "      <td>0.051676</td>\n",
       "      <td>10</td>\n",
       "      <td>0.013078</td>\n",
       "    </tr>\n",
       "    <tr>\n",
       "      <th>5</th>\n",
       "      <td>0.055332</td>\n",
       "      <td>19</td>\n",
       "      <td>0.050279</td>\n",
       "      <td>1</td>\n",
       "      <td>0.005053</td>\n",
       "    </tr>\n",
       "    <tr>\n",
       "      <th>6</th>\n",
       "      <td>0.054510</td>\n",
       "      <td>11</td>\n",
       "      <td>0.050000</td>\n",
       "      <td>5</td>\n",
       "      <td>0.004510</td>\n",
       "    </tr>\n",
       "    <tr>\n",
       "      <th>7</th>\n",
       "      <td>0.044636</td>\n",
       "      <td>0</td>\n",
       "      <td>0.049162</td>\n",
       "      <td>19</td>\n",
       "      <td>-0.004526</td>\n",
       "    </tr>\n",
       "    <tr>\n",
       "      <th>8</th>\n",
       "      <td>0.044361</td>\n",
       "      <td>7</td>\n",
       "      <td>0.048045</td>\n",
       "      <td>16</td>\n",
       "      <td>-0.003684</td>\n",
       "    </tr>\n",
       "    <tr>\n",
       "      <th>9</th>\n",
       "      <td>0.043820</td>\n",
       "      <td>8</td>\n",
       "      <td>0.048045</td>\n",
       "      <td>2</td>\n",
       "      <td>-0.004225</td>\n",
       "    </tr>\n",
       "    <tr>\n",
       "      <th>10</th>\n",
       "      <td>0.039955</td>\n",
       "      <td>21</td>\n",
       "      <td>0.046927</td>\n",
       "      <td>14</td>\n",
       "      <td>-0.006972</td>\n",
       "    </tr>\n",
       "    <tr>\n",
       "      <th>11</th>\n",
       "      <td>0.039690</td>\n",
       "      <td>10</td>\n",
       "      <td>0.044413</td>\n",
       "      <td>18</td>\n",
       "      <td>-0.004724</td>\n",
       "    </tr>\n",
       "    <tr>\n",
       "      <th>12</th>\n",
       "      <td>0.037484</td>\n",
       "      <td>1</td>\n",
       "      <td>0.044134</td>\n",
       "      <td>6</td>\n",
       "      <td>-0.006650</td>\n",
       "    </tr>\n",
       "    <tr>\n",
       "      <th>13</th>\n",
       "      <td>0.037324</td>\n",
       "      <td>20</td>\n",
       "      <td>0.042179</td>\n",
       "      <td>13</td>\n",
       "      <td>-0.004855</td>\n",
       "    </tr>\n",
       "    <tr>\n",
       "      <th>14</th>\n",
       "      <td>0.035650</td>\n",
       "      <td>4</td>\n",
       "      <td>0.040782</td>\n",
       "      <td>17</td>\n",
       "      <td>-0.005132</td>\n",
       "    </tr>\n",
       "    <tr>\n",
       "      <th>15</th>\n",
       "      <td>0.035409</td>\n",
       "      <td>18</td>\n",
       "      <td>0.040223</td>\n",
       "      <td>15</td>\n",
       "      <td>-0.004814</td>\n",
       "    </tr>\n",
       "    <tr>\n",
       "      <th>16</th>\n",
       "      <td>0.033816</td>\n",
       "      <td>6</td>\n",
       "      <td>0.037151</td>\n",
       "      <td>12</td>\n",
       "      <td>-0.003335</td>\n",
       "    </tr>\n",
       "    <tr>\n",
       "      <th>17</th>\n",
       "      <td>0.030829</td>\n",
       "      <td>5</td>\n",
       "      <td>0.036313</td>\n",
       "      <td>7</td>\n",
       "      <td>-0.005484</td>\n",
       "    </tr>\n",
       "    <tr>\n",
       "      <th>18</th>\n",
       "      <td>0.029906</td>\n",
       "      <td>13</td>\n",
       "      <td>0.035475</td>\n",
       "      <td>20</td>\n",
       "      <td>-0.005569</td>\n",
       "    </tr>\n",
       "    <tr>\n",
       "      <th>19</th>\n",
       "      <td>0.028984</td>\n",
       "      <td>16</td>\n",
       "      <td>0.030447</td>\n",
       "      <td>8</td>\n",
       "      <td>-0.001463</td>\n",
       "    </tr>\n",
       "    <tr>\n",
       "      <th>20</th>\n",
       "      <td>0.019682</td>\n",
       "      <td>15</td>\n",
       "      <td>0.026536</td>\n",
       "      <td>9</td>\n",
       "      <td>-0.006854</td>\n",
       "    </tr>\n",
       "    <tr>\n",
       "      <th>21</th>\n",
       "      <td>0.016825</td>\n",
       "      <td>17</td>\n",
       "      <td>0.016760</td>\n",
       "      <td>0</td>\n",
       "      <td>0.000065</td>\n",
       "    </tr>\n",
       "  </tbody>\n",
       "</table>\n",
       "</div>"
      ],
      "text/plain": [
       "    proportion_population  cluster_num_population  proportion_more_than_50k  \\\n",
       "0                0.081685                       9                  0.070112   \n",
       "1                0.079570                      14                  0.070112   \n",
       "2                0.074307                       3                  0.066480   \n",
       "3                0.071470                      12                  0.054749   \n",
       "4                0.064754                       2                  0.051676   \n",
       "5                0.055332                      19                  0.050279   \n",
       "6                0.054510                      11                  0.050000   \n",
       "7                0.044636                       0                  0.049162   \n",
       "8                0.044361                       7                  0.048045   \n",
       "9                0.043820                       8                  0.048045   \n",
       "10               0.039955                      21                  0.046927   \n",
       "11               0.039690                      10                  0.044413   \n",
       "12               0.037484                       1                  0.044134   \n",
       "13               0.037324                      20                  0.042179   \n",
       "14               0.035650                       4                  0.040782   \n",
       "15               0.035409                      18                  0.040223   \n",
       "16               0.033816                       6                  0.037151   \n",
       "17               0.030829                       5                  0.036313   \n",
       "18               0.029906                      13                  0.035475   \n",
       "19               0.028984                      16                  0.030447   \n",
       "20               0.019682                      15                  0.026536   \n",
       "21               0.016825                      17                  0.016760   \n",
       "\n",
       "    cluster_num_more_than_50k  Difference  \n",
       "0                           3    0.011573  \n",
       "1                           4    0.009458  \n",
       "2                          11    0.007827  \n",
       "3                          21    0.016722  \n",
       "4                          10    0.013078  \n",
       "5                           1    0.005053  \n",
       "6                           5    0.004510  \n",
       "7                          19   -0.004526  \n",
       "8                          16   -0.003684  \n",
       "9                           2   -0.004225  \n",
       "10                         14   -0.006972  \n",
       "11                         18   -0.004724  \n",
       "12                          6   -0.006650  \n",
       "13                         13   -0.004855  \n",
       "14                         17   -0.005132  \n",
       "15                         15   -0.004814  \n",
       "16                         12   -0.003335  \n",
       "17                          7   -0.005484  \n",
       "18                         20   -0.005569  \n",
       "19                          8   -0.001463  \n",
       "20                          9   -0.006854  \n",
       "21                          0    0.000065  "
      ]
     },
     "execution_count": 175,
     "metadata": {},
     "output_type": "execute_result"
    }
   ],
   "source": [
    "# Creating datadframe with proportion_ for population and num_more_than_50k clusters\n",
    "d1 = pd.DataFrame(cluster_population)\n",
    "d1['cluster_num'] = d1.index\n",
    "d1.columns=['proportion_population','cluster_num_population']\n",
    "d1.reset_index(drop=True, inplace=True)\n",
    "d2 = pd.DataFrame(cluster_more_than_50k)\n",
    "d2['cluster_num'] = d2.index\n",
    "d2.columns=['proportion_more_than_50k','cluster_num_more_than_50k']\n",
    "d2.reset_index(drop=True, inplace=True)\n",
    "d_concat = pd.concat([d1, d2], axis=1)\n",
    "# Difference between cluster proportion\n",
    "d_concat['Difference'] = d_concat['proportion_population'] - d_concat['proportion_more_than_50k']\n",
    "d_concat"
   ]
  },
  {
   "cell_type": "code",
   "execution_count": 198,
   "metadata": {},
   "outputs": [
    {
     "name": "stdout",
     "output_type": "stream",
     "text": [
      "Population dataset Over - represented compared to more_than_50k by 0.01157%\n",
      "Population dataset Over - represented compared to more_than_50k by 0.00946%\n",
      "Population dataset Over - represented compared to more_than_50k by 0.00783%\n",
      "Population dataset Over - represented compared to more_than_50k by 0.01672%\n",
      "Population dataset Over - represented compared to more_than_50k by 0.01308%\n",
      "Population dataset Over - represented compared to more_than_50k by 0.00505%\n",
      "Population dataset Over - represented compared to more_than_50k by 0.00451%\n",
      "Population dataset Under - represented compared to more_than_50k by -0.00453%\n",
      "Population dataset Under - represented compared to more_than_50k by -0.00368%\n",
      "Population dataset Under - represented compared to more_than_50k by -0.00423%\n",
      "Population dataset Under - represented compared to more_than_50k by -0.00697%\n",
      "Population dataset Under - represented compared to more_than_50k by -0.00472%\n",
      "Population dataset Under - represented compared to more_than_50k by -0.00665%\n",
      "Population dataset Under - represented compared to more_than_50k by -0.00485%\n",
      "Population dataset Under - represented compared to more_than_50k by -0.00513%\n",
      "Population dataset Under - represented compared to more_than_50k by -0.00481%\n",
      "Population dataset Under - represented compared to more_than_50k by -0.00334%\n",
      "Population dataset Under - represented compared to more_than_50k by -0.00548%\n",
      "Population dataset Under - represented compared to more_than_50k by -0.00557%\n",
      "Population dataset Under - represented compared to more_than_50k by -0.00146%\n",
      "Population dataset Under - represented compared to more_than_50k by -0.00685%\n",
      "Population dataset Over - represented compared to more_than_50k by 0.00007%\n"
     ]
    }
   ],
   "source": [
    "# To determine the overrepresentation the clusters formed by each of the two datasets have been sorted on the basis of \n",
    "# their percentage counts and the largest clusters have been chosen to find out the maximum overrepresentation. \n",
    "\n",
    "\n",
    "# Printing clusters that are over-represented in the general population vs more than 50k population\n",
    "\n",
    "for x in range(22):\n",
    "    if(d_concat['Difference'][x]>0):\n",
    "        print('Population dataset Over - represented compared to more_than_50k by %.5f%%'%(d_concat['Difference'][x]))\n",
    "    elif(d_concat['Difference'][x]<0):\n",
    "        print('Population dataset Under - represented compared to more_than_50k by %.5f%%'% ( d_concat['Difference'][x]))"
   ]
  },
  {
   "cell_type": "markdown",
   "metadata": {},
   "source": [
    "## Analyze a cluster overrepresented in the more than 50k data compared to the general population."
   ]
  },
  {
   "cell_type": "code",
   "execution_count": 181,
   "metadata": {},
   "outputs": [],
   "source": [
    "# Cluster 9 is overrepresented in the more than 50k data compared to the general population"
   ]
  },
  {
   "cell_type": "code",
   "execution_count": 182,
   "metadata": {},
   "outputs": [],
   "source": [
    "def plot_scaled_comparison(df_sample, kmedians_instance, cluster, pca):\n",
    "    #pca inverse transform on clusters\n",
    "    m = kmedians_instance.get_medians()\n",
    "    inv_pca= pca.inverse_transform(m[cluster])\n",
    "    #convert to dict and use columns from full space\n",
    "    df_dict=dict(zip(df_sample.columns, inv_pca))\n",
    "    #make dataframe\n",
    "    df=pd.DataFrame.from_dict(df_dict, orient='index').rename( \n",
    "        columns={0: 'feature_values'}).sort_values('feature_values', ascending=False)\n",
    "    df['feature_values_abs']=abs(df['feature_values'])\n",
    "    viz_df= pd.concat((df['feature_values'][:10], df['feature_values'][-10:]), axis=0)\n",
    "    viz_df.plot(kind='barh')"
   ]
  },
  {
   "cell_type": "code",
   "execution_count": 183,
   "metadata": {},
   "outputs": [
    {
     "data": {
      "image/png": "[encoded data removed]",
      "text/plain": [
       "<Figure size 432x288 with 1 Axes>"
      ]
     },
     "metadata": {
      "needs_background": "light"
     },
     "output_type": "display_data"
    }
   ],
   "source": [
    "plot_scaled_comparison(data_more_than_50k, kmedians_instance2, 9, pca)"
   ]
  },
  {
   "cell_type": "code",
   "execution_count": 185,
   "metadata": {},
   "outputs": [],
   "source": [
    "# Description for top 5 features in the more_than_50k data for cluster 9\n",
    "# YEAR: data collected in the year\n",
    "# ADTIND_bin: industry code \n",
    "# AAGE_bin: age\n",
    "# WKSWORK_bin: weeks worked in year\n",
    "# ADTOCC_bin: occupation code"
   ]
  },
  {
   "cell_type": "code",
   "execution_count": 186,
   "metadata": {},
   "outputs": [],
   "source": [
    "# Filtering records for cluster 5\n",
    "ind = new_df_more_than_50k[new_df_more_than_50k['Label'] ==5].index\n",
    "data_more_than_50k_clus5 = data_more_than_50k[new_df_more_than_50k.index.isin(ind)]"
   ]
  },
  {
   "cell_type": "code",
   "execution_count": 187,
   "metadata": {},
   "outputs": [
    {
     "name": "stdout",
     "output_type": "stream",
     "text": [
      " Min data collected in the year : 94\n",
      " Max data collected in the year : 95\n",
      " Mean data collected in the year : 94.47486033519553\n",
      " Median data collected in the year : 94.0\n",
      " Mode data collected in the year : 0    94\n",
      "dtype: int64\n"
     ]
    }
   ],
   "source": [
    "print(\" Min data collected in the year :\", data_more_than_50k_clus5['YEAR'].min())\n",
    "print(\" Max data collected in the year :\", data_more_than_50k_clus5['YEAR'].max())\n",
    "print(\" Mean data collected in the year :\", data_more_than_50k_clus5['YEAR'].mean())\n",
    "print(\" Median data collected in the year :\", data_more_than_50k_clus5['YEAR'].median())\n",
    "print(\" Mode data collected in the year :\", data_more_than_50k_clus5['YEAR'].mode())"
   ]
  },
  {
   "cell_type": "code",
   "execution_count": 188,
   "metadata": {},
   "outputs": [
    {
     "name": "stdout",
     "output_type": "stream",
     "text": [
      " Min industry code : 1\n",
      " Max industry code : 1\n",
      " Mode industry code : 0    1\n",
      "Name: ADTIND_bin, dtype: category\n",
      "Categories (7, object): [1 < 2 < 3 < 4 < 5 < 6 < 7]\n"
     ]
    }
   ],
   "source": [
    "print(\" Min industry code :\", data_population_clus1['ADTIND_bin'].min())\n",
    "print(\" Max industry code :\", data_population_clus1['ADTIND_bin'].max())\n",
    "print(\" Mode industry code :\", data_population_clus1['ADTIND_bin'].mode())"
   ]
  },
  {
   "cell_type": "code",
   "execution_count": 189,
   "metadata": {},
   "outputs": [],
   "source": [
    "# minimum and maximum industry code are 1 and 1 with mode of1"
   ]
  },
  {
   "cell_type": "code",
   "execution_count": 190,
   "metadata": {},
   "outputs": [
    {
     "name": "stdout",
     "output_type": "stream",
     "text": [
      " Min age  : 4\n",
      " Max age  : 8\n",
      " Mode age : 0    8\n",
      "Name: AAGE_bin, dtype: category\n",
      "Categories (8, object): [1 < 2 < 3 < 4 < 5 < 6 < 7 < 8]\n"
     ]
    }
   ],
   "source": [
    "print(\" Min age  :\", data_more_than_50k_clus5['AAGE_bin'].min())\n",
    "print(\" Max age  :\", data_more_than_50k_clus5['AAGE_bin'].max())\n",
    "print(\" Mode age :\", data_more_than_50k_clus5['AAGE_bin'].mode())"
   ]
  },
  {
   "cell_type": "code",
   "execution_count": 191,
   "metadata": {},
   "outputs": [],
   "source": [
    "# minimum and maximum AAGE_bin of 4 and 8 refers to age between 40 to 90"
   ]
  },
  {
   "cell_type": "code",
   "execution_count": 192,
   "metadata": {},
   "outputs": [
    {
     "name": "stdout",
     "output_type": "stream",
     "text": [
      " Min weeks worked in year  : 1\n",
      " Max weeks worked in year  : 4\n",
      " Mode weeks worked in year : 0    1\n",
      "Name: WKSWORK_bin, dtype: category\n",
      "Categories (4, object): [1 < 2 < 3 < 4]\n"
     ]
    }
   ],
   "source": [
    "print(\" Min weeks worked in year  :\", data_more_than_50k_clus5['WKSWORK_bin'].min())\n",
    "print(\" Max weeks worked in year  :\", data_more_than_50k_clus5['WKSWORK_bin'].max())\n",
    "print(\" Mode weeks worked in year :\", data_more_than_50k_clus5['WKSWORK_bin'].mode())"
   ]
  },
  {
   "cell_type": "code",
   "execution_count": 193,
   "metadata": {},
   "outputs": [],
   "source": [
    "# minimum and maximum WKSWORK_bin of 1 and 4 refers to 0 to 52 weeks worked in year "
   ]
  },
  {
   "cell_type": "code",
   "execution_count": 194,
   "metadata": {},
   "outputs": [
    {
     "name": "stdout",
     "output_type": "stream",
     "text": [
      " Min occupation code : 1\n",
      " Max occupation code : 2\n",
      " Mode occupation code: 0    1\n",
      "Name: ADTOCC_bin, dtype: category\n",
      "Categories (7, object): [1 < 2 < 3 < 4 < 5 < 6 < 7]\n"
     ]
    }
   ],
   "source": [
    "print(\" Min occupation code :\", data_more_than_50k_clus5['ADTOCC_bin'].min())\n",
    "print(\" Max occupation code :\", data_more_than_50k_clus5['ADTOCC_bin'].max())\n",
    "print(\" Mode occupation code:\", data_more_than_50k_clus5['ADTOCC_bin'].mode())"
   ]
  },
  {
   "cell_type": "code",
   "execution_count": 195,
   "metadata": {},
   "outputs": [],
   "source": [
    "# minimum and maximum ADTOCC_bin of 1 and 4 refers to 1 and 2 occupation code"
   ]
  },
  {
   "cell_type": "code",
   "execution_count": null,
   "metadata": {},
   "outputs": [],
   "source": []
  },
  {
   "cell_type": "code",
   "execution_count": null,
   "metadata": {},
   "outputs": [],
   "source": []
  }
 ],
 "metadata": {
  "kernelspec": {
   "display_name": "Python 3",
   "language": "python",
   "name": "python3"
  },
  "language_info": {
   "codemirror_mode": {
    "name": "ipython",
    "version": 3
   },
   "file_extension": ".py",
   "mimetype": "text/x-python",
   "name": "python",
   "nbconvert_exporter": "python",
   "pygments_lexer": "ipython3",
   "version": "3.8.3"
  }
 },
 "nbformat": 4,
 "nbformat_minor": 4
}
